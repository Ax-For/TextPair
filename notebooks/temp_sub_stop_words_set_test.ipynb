{
 "cells": [
  {
   "cell_type": "code",
   "execution_count": 1,
   "metadata": {},
   "outputs": [],
   "source": [
    "import requests\n",
    "import json"
   ]
  },
  {
   "cell_type": "code",
   "execution_count": 2,
   "metadata": {},
   "outputs": [],
   "source": [
    "# SYN_WORDS_PATH = './test_data/test_syn_words_path.txt'\n",
    "\n",
    "\n",
    "# with open(SYN_WORDS_PATH, encoding='utf-8') as f:\n",
    "#     syn_words_str = f.read()\n",
    "\n",
    "stop_words_str = \"\"\"\n",
    "    啊\n",
    "    呵呵\n",
    "    嗯\n",
    "\"\"\"\n",
    "\n",
    "url = 'http://127.0.0.1:5000/sim'\n",
    "headers = {\"Content-Type\": \"application/json\"}\n",
    "\n",
    "text1 = \"明天天气怎样啊\"\n",
    "text2 = \"明天天气怎样\"\n",
    "model = \"paddle_bow\"\n",
    "\n",
    "data1 = {\"text1\": text1,\n",
    "         \"text2\": text2,\n",
    "         \"model\": model\n",
    "        }\n",
    "\n",
    "data2 = {\"text1\": text1,\n",
    "         \"text2\": text2,\n",
    "         \"model\": model,\n",
    "         \"stop_words_str\": stop_words_str\n",
    "        }"
   ]
  },
  {
   "cell_type": "code",
   "execution_count": 3,
   "metadata": {},
   "outputs": [],
   "source": [
    "res1 = requests.post(url= url, data = json.dumps(data1), headers=headers)"
   ]
  },
  {
   "cell_type": "code",
   "execution_count": 4,
   "metadata": {},
   "outputs": [
    {
     "data": {
      "text/plain": [
       "{'model': 'paddle_bow',\n",
       " 'msg': 'successful',\n",
       " 'score': 0.9884762465953827,\n",
       " 'status': 0,\n",
       " 'text1': '明天天气怎样啊',\n",
       " 'text2': '明天天气怎样',\n",
       " 'words1': ['明天', '天气', '怎样', '啊'],\n",
       " 'words2': ['明天', '天气', '怎样']}"
      ]
     },
     "execution_count": 4,
     "metadata": {},
     "output_type": "execute_result"
    }
   ],
   "source": [
    "res1.json()"
   ]
  },
  {
   "cell_type": "code",
   "execution_count": 5,
   "metadata": {},
   "outputs": [],
   "source": [
    "res2 = requests.post(url= url, data= json.dumps(data2), headers=headers)"
   ]
  },
  {
   "cell_type": "code",
   "execution_count": 6,
   "metadata": {},
   "outputs": [
    {
     "data": {
      "text/plain": [
       "{'model': 'paddle_bow',\n",
       " 'msg': 'successful',\n",
       " 'score': 0.9999999701976776,\n",
       " 'status': 0,\n",
       " 'text1': '明天天气怎样啊',\n",
       " 'text2': '明天天气怎样',\n",
       " 'words1': ['明天', '天气', '怎样'],\n",
       " 'words2': ['明天', '天气', '怎样']}"
      ]
     },
     "execution_count": 6,
     "metadata": {},
     "output_type": "execute_result"
    }
   ],
   "source": [
    "res2.json()"
   ]
  },
  {
   "cell_type": "code",
   "execution_count": 7,
   "metadata": {},
   "outputs": [
    {
     "data": {
      "text/plain": [
       "{'model': 'paddle_bow',\n",
       " 'msg': 'successful',\n",
       " 'score': 0.9884762465953827,\n",
       " 'status': 0,\n",
       " 'text1': '明天天气怎样啊',\n",
       " 'text2': '明天天气怎样',\n",
       " 'words1': ['明天', '天气', '怎样', '啊'],\n",
       " 'words2': ['明天', '天气', '怎样']}"
      ]
     },
     "execution_count": 7,
     "metadata": {},
     "output_type": "execute_result"
    }
   ],
   "source": [
    "res3 = requests.post(url= url, data = json.dumps(data1), headers=headers)\n",
    "res3.json()"
   ]
  },
  {
   "cell_type": "code",
   "execution_count": null,
   "metadata": {},
   "outputs": [],
   "source": []
  }
 ],
 "metadata": {
  "kernelspec": {
   "display_name": "Python 3",
   "language": "python",
   "name": "python3"
  },
  "language_info": {
   "codemirror_mode": {
    "name": "ipython",
    "version": 3
   },
   "file_extension": ".py",
   "mimetype": "text/x-python",
   "name": "python",
   "nbconvert_exporter": "python",
   "pygments_lexer": "ipython3",
   "version": "3.6.5"
  }
 },
 "nbformat": 4,
 "nbformat_minor": 2
}
