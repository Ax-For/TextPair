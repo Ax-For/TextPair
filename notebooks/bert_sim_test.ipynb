{
 "cells": [
  {
   "cell_type": "code",
   "execution_count": 1,
   "metadata": {},
   "outputs": [],
   "source": [
    "import sys\n",
    "sys.path.append('../')"
   ]
  },
  {
   "cell_type": "code",
   "execution_count": 2,
   "metadata": {},
   "outputs": [
    {
     "name": "stdout",
     "output_type": "stream",
     "text": [
      "Better speed can be achieved with apex installed from https://www.github.com/nvidia/apex.\n"
     ]
    }
   ],
   "source": [
    "from textpair.preprocess.bert_preprocessor import BertPreprocessor\n",
    "from textpair.analyze.bert_analyzer import BertAnalyzer\n",
    "from textpair.vectorize.bert_vectorizer import BertVectorizer\n",
    "from textpair.model.bert_model import BertModel as BertSimModel # 为了不跟pytorch的模型重名\n",
    "from textpair.pair_ann import PairAnn\n",
    "from textpair.semantic.base_semantic import BaseSemantic\n",
    "\n",
    "import logging\n",
    "\n",
    "logging.basicConfig(level=logging.INFO)\n",
    "\n",
    "import torch\n",
    "torch.manual_seed(2)\n",
    "from pytorch_pretrained_bert import BertTokenizer, BertModel, BertForMaskedLM"
   ]
  },
  {
   "cell_type": "code",
   "execution_count": 3,
   "metadata": {},
   "outputs": [],
   "source": [
    "BERT_MODEL_FILE = '/home/aaron/model_files/bert/pytorch/bert-base-chinese.tar.gz'\n",
    "BERT_VOCAB_FILE = '/home/aaron/model_files/bert/pytorch/bert-base-chinese-vocab.txt'"
   ]
  },
  {
   "cell_type": "code",
   "execution_count": 4,
   "metadata": {},
   "outputs": [
    {
     "name": "stderr",
     "output_type": "stream",
     "text": [
      "INFO:pytorch_pretrained_bert.modeling:loading archive file /home/aaron/model_files/bert/pytorch/bert-base-chinese.tar.gz\n",
      "INFO:pytorch_pretrained_bert.modeling:extracting archive file /home/aaron/model_files/bert/pytorch/bert-base-chinese.tar.gz to temp dir /tmp/tmp_hvl8fm1\n",
      "INFO:pytorch_pretrained_bert.modeling:Model config {\n",
      "  \"attention_probs_dropout_prob\": 0.1,\n",
      "  \"directionality\": \"bidi\",\n",
      "  \"hidden_act\": \"gelu\",\n",
      "  \"hidden_dropout_prob\": 0.1,\n",
      "  \"hidden_size\": 768,\n",
      "  \"initializer_range\": 0.02,\n",
      "  \"intermediate_size\": 3072,\n",
      "  \"max_position_embeddings\": 512,\n",
      "  \"num_attention_heads\": 12,\n",
      "  \"num_hidden_layers\": 12,\n",
      "  \"pooler_fc_size\": 768,\n",
      "  \"pooler_num_attention_heads\": 12,\n",
      "  \"pooler_num_fc_layers\": 3,\n",
      "  \"pooler_size_per_head\": 128,\n",
      "  \"pooler_type\": \"first_token_transform\",\n",
      "  \"type_vocab_size\": 2,\n",
      "  \"vocab_size\": 21128\n",
      "}\n",
      "\n",
      "INFO:pytorch_pretrained_bert.tokenization:loading vocabulary file /home/aaron/model_files/bert/pytorch/bert-base-chinese-vocab.txt\n"
     ]
    }
   ],
   "source": [
    "bert_model = BertModel.from_pretrained(BERT_MODEL_FILE)\n",
    "bert_tokenizer = BertTokenizer.from_pretrained(BERT_VOCAB_FILE)"
   ]
  },
  {
   "cell_type": "code",
   "execution_count": 5,
   "metadata": {},
   "outputs": [],
   "source": [
    "preprocessor = BertPreprocessor()\n",
    "analyzer = BertAnalyzer(bert_tokenizer)\n",
    "vectorizer = BertVectorizer(bert_tokenizer)\n",
    "model = BertSimModel(bert_model)\n",
    "pipeline = BaseSemantic(preprocessor,\n",
    "                        analyzer,\n",
    "                        vectorizer,\n",
    "                        model\n",
    "                       )"
   ]
  },
  {
   "cell_type": "code",
   "execution_count": 6,
   "metadata": {},
   "outputs": [
    {
     "data": {
      "text/plain": [
       "0.87126017"
      ]
     },
     "execution_count": 6,
     "metadata": {},
     "output_type": "execute_result"
    }
   ],
   "source": [
    "text1 = \"信号忽强忽弱\"\n",
    "text2 = \"信号忽高忽低\"\n",
    "ann = PairAnn(text1, text2)\n",
    "ann = pipeline(ann)\n",
    "ann.score"
   ]
  },
  {
   "cell_type": "code",
   "execution_count": null,
   "metadata": {},
   "outputs": [],
   "source": []
  }
 ],
 "metadata": {
  "kernelspec": {
   "display_name": "care",
   "language": "python",
   "name": "care"
  },
  "language_info": {
   "codemirror_mode": {
    "name": "ipython",
    "version": 3
   },
   "file_extension": ".py",
   "mimetype": "text/x-python",
   "name": "python",
   "nbconvert_exporter": "python",
   "pygments_lexer": "ipython3",
   "version": "3.6.8"
  }
 },
 "nbformat": 4,
 "nbformat_minor": 2
}
