{
 "cells": [
  {
   "cell_type": "code",
   "execution_count": 1,
   "metadata": {},
   "outputs": [],
   "source": [
    "import requests\n",
    "import json"
   ]
  },
  {
   "cell_type": "code",
   "execution_count": 2,
   "metadata": {},
   "outputs": [],
   "source": [
    "SYN_WORDS_PATH = './test_data/test_syn_words_path.txt'\n",
    "\n",
    "\n",
    "# with open(SYN_WORDS_PATH, encoding='utf-8') as f:\n",
    "#     syn_words_str = f.read()\n",
    "\n",
    "syn_words_str = \"\"\"\n",
    "    明天 明日\n",
    "    倘若 如果\n",
    "    如何 怎样\n",
    "\"\"\"\n",
    "\n",
    "url = 'http://127.0.0.1:5000/sim'\n",
    "headers = {\"Content-Type\": \"application/json\"}\n",
    "\n",
    "text1 = \"明天天气怎样\"\n",
    "text2 = \"明日天气如何\"\n",
    "model = \"simple_bert\"\n",
    "\n",
    "data1 = {\"text1\": text1,\n",
    "         \"text2\": text2,\n",
    "         \"model\": model\n",
    "        }\n",
    "\n",
    "data2 = {\"text1\": text1,\n",
    "         \"text2\": text2,\n",
    "         \"model\": model,\n",
    "         \"syn_words_str\": syn_words_str\n",
    "        }"
   ]
  },
  {
   "cell_type": "code",
   "execution_count": null,
   "metadata": {},
   "outputs": [],
   "source": [
    "res1 = requests.post(url= url, data = json.dumps(data1), headers=headers)"
   ]
  },
  {
   "cell_type": "code",
   "execution_count": null,
   "metadata": {},
   "outputs": [],
   "source": [
    "res1.json()"
   ]
  },
  {
   "cell_type": "code",
   "execution_count": null,
   "metadata": {},
   "outputs": [],
   "source": [
    "res2 = requests.post(url= url, data= json.dumps(data2), headers=headers)"
   ]
  },
  {
   "cell_type": "code",
   "execution_count": null,
   "metadata": {},
   "outputs": [],
   "source": [
    "res2.json()"
   ]
  },
  {
   "cell_type": "code",
   "execution_count": null,
   "metadata": {},
   "outputs": [],
   "source": [
    "res3 = requests.post(url= url, data = json.dumps(data1), headers=headers)\n",
    "res3.json()"
   ]
  },
  {
   "cell_type": "code",
   "execution_count": null,
   "metadata": {},
   "outputs": [],
   "source": []
  }
 ],
 "metadata": {
  "kernelspec": {
   "display_name": "Python 3",
   "language": "python",
   "name": "python3"
  },
  "language_info": {
   "codemirror_mode": {
    "name": "ipython",
    "version": 3
   },
   "file_extension": ".py",
   "mimetype": "text/x-python",
   "name": "python",
   "nbconvert_exporter": "python",
   "pygments_lexer": "ipython3",
   "version": "3.6.5"
  }
 },
 "nbformat": 4,
 "nbformat_minor": 2
}
