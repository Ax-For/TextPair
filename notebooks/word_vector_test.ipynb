{
 "cells": [
  {
   "cell_type": "code",
   "execution_count": 1,
   "metadata": {},
   "outputs": [],
   "source": [
    "import os\n",
    "import jieba\n",
    "import pickle\n",
    "import pandas as pd\n",
    "import numpy as np\n",
    "from tqdm import tqdm\n",
    "from functools import reduce\n",
    "from sklearn.metrics.pairwise import cosine_similarity, cosine_distances"
   ]
  },
  {
   "cell_type": "code",
   "execution_count": 2,
   "metadata": {},
   "outputs": [],
   "source": [
    "WORD_VEC_PATH = '/efs/downloads/word_vector/sgns.baidubaike.bigram-char'\n",
    "LINE_NUM = 635975\n",
    "\n",
    "PADDLE_BOW_WORD_VEC_PKL = '../data/paddle_models/sim_net/word_vec/paddle_bow_wv.pkl'"
   ]
  },
  {
   "cell_type": "code",
   "execution_count": 3,
   "metadata": {},
   "outputs": [],
   "source": [
    "def read_vectors(path, topn):  # read top n word vectors, i.e. top is 10000\n",
    "    lines_num, dim = 0, 0\n",
    "    vectors = {}\n",
    "    iw = []\n",
    "    wi = {}\n",
    "    with open(path, encoding='utf-8', errors='ignore') as f:\n",
    "        first_line = True\n",
    "        for line in tqdm(f, total= topn):\n",
    "            if first_line:\n",
    "                first_line = False\n",
    "                dim = int(line.rstrip().split()[1])\n",
    "                continue\n",
    "            lines_num += 1\n",
    "            tokens = line.rstrip().split(' ')\n",
    "            vectors[tokens[0]] = np.asarray([float(x) for x in tokens[1:]])\n",
    "            iw.append(tokens[0])\n",
    "            if topn != 0 and lines_num >= topn:\n",
    "                break\n",
    "    for i, w in enumerate(iw):\n",
    "        wi[w] = i\n",
    "    return vectors, iw, wi, dim\n",
    "\n",
    "\n",
    "def read_paddle_bow_vectors(pkl):\n",
    "    with open(pkl, 'rb') as f:\n",
    "        wv = pickle.load(f)\n",
    "        vectors = wv['embedding']\n",
    "        wi = wv['w2i']\n",
    "    return vectors, wi, len(vectors[0])"
   ]
  },
  {
   "cell_type": "code",
   "execution_count": 4,
   "metadata": {},
   "outputs": [
    {
     "name": "stderr",
     "output_type": "stream",
     "text": [
      "100%|██████████| 635975/635975 [00:56<00:00, 11268.75it/s]\n"
     ]
    }
   ],
   "source": [
    "vecotrs, iw, wi, dim = read_vectors(WORD_VEC_PATH, LINE_NUM)"
   ]
  },
  {
   "cell_type": "code",
   "execution_count": 5,
   "metadata": {},
   "outputs": [],
   "source": [
    "paddle_vectors, paddle_wi, paddle_dim = read_paddle_bow_vectors(PADDLE_BOW_WORD_VEC_PKL)"
   ]
  },
  {
   "cell_type": "code",
   "execution_count": 6,
   "metadata": {},
   "outputs": [],
   "source": [
    "def sim(text1, text2):\n",
    "    words1 = jieba.lcut(text1)\n",
    "    words2 = jieba.lcut(text2)\n",
    "    ids1 = [wi[w] for w in words1 if w in wi]\n",
    "    ids2 = [wi[w] for w in words2 if w in wi]\n",
    "    vec1 = reduce(lambda x, y: x + y, (vecotrs[w] for w in words1 if w in wi), np.zeros(dim))\n",
    "    vec2 = reduce(lambda x, y: x + y, (vecotrs[w] for w in words2 if w in wi), np.zeros(dim))\n",
    "    vec1 = vec1.reshape(1, -1)\n",
    "    vec2 = vec2.reshape(1, -1)\n",
    "    cos_sim = cosine_similarity(vec1, vec2)[0,0]\n",
    "    cos_dis = cosine_distances(vec1, vec2)[0,0]\n",
    "    score = (cos_sim + 1.0)/ 2.0\n",
    "    print(\"score:\", score)\n",
    "    print('cos_sim:', cos_sim)\n",
    "    print('cos_dis:', cos_dis)\n",
    "    print('words1:', words1)\n",
    "    print('words2:', words2)\n",
    "    print('ids1', ids1)\n",
    "    print('ids2', ids2)\n",
    "    return score, cos_sim, cos_dis, words1, words2, ids1, ids2\n",
    "\n",
    "\n",
    "def paddle_sim(text1, text2):\n",
    "    words1 = jieba.lcut(text1)\n",
    "    words2 = jieba.lcut(text2)\n",
    "    ids1 = [paddle_wi[w] for w in words1 if w in paddle_wi]\n",
    "    ids2 = [paddle_wi[w] for w in words2 if w in paddle_wi]\n",
    "    vec1 = reduce(lambda x, y: x + y, (paddle_vectors[i] for i in ids1), np.zeros(paddle_dim))\n",
    "    vec2 = reduce(lambda x, y: x + y, (paddle_vectors[i] for i in ids2), np.zeros(paddle_dim))\n",
    "    vec1 = vec1.reshape(1, -1)\n",
    "    vec2 = vec2.reshape(1, -1)\n",
    "    cos_sim = cosine_similarity(vec1, vec2)[0,0]\n",
    "    cos_dis = cosine_distances(vec1, vec2)[0,0]\n",
    "    score = (cos_sim + 1.0)/ 2.0\n",
    "    print(\"paddle_score:\", score)\n",
    "    print('paddle_cos_sim:', cos_sim)\n",
    "    print('paddle_cos_dis:', cos_dis)\n",
    "    print('paddle_words1:', words1)\n",
    "    print('paddle_words2:', words2)\n",
    "    print('paddle_ids1', ids1)\n",
    "    print('paddle_ids2', ids2)\n",
    "    return score, cos_sim, cos_dis, words1, words2, ids1, ids2"
   ]
  },
  {
   "cell_type": "code",
   "execution_count": 7,
   "metadata": {},
   "outputs": [
    {
     "name": "stderr",
     "output_type": "stream",
     "text": [
      "Building prefix dict from the default dictionary ...\n",
      "Loading model from cache /tmp/jieba.cache\n",
      "Loading model cost 0.693 seconds.\n",
      "Prefix dict has been built succesfully.\n"
     ]
    },
    {
     "name": "stdout",
     "output_type": "stream",
     "text": [
      "score: 0.8281019216369938\n",
      "cos_sim: 0.6562038432739876\n",
      "cos_dis: 0.3437961567260124\n",
      "words1: ['高兴']\n",
      "words2: ['开心']\n",
      "ids1 [4764]\n",
      "ids2 [6473]\n",
      "\n",
      "\n",
      "paddle_score: 0.6905868668471822\n",
      "paddle_cos_sim: 0.38117373369436447\n",
      "paddle_cos_dis: 0.6188262663056355\n",
      "paddle_words1: ['高兴']\n",
      "paddle_words2: ['开心']\n",
      "paddle_ids1 [410020]\n",
      "paddle_ids2 [457777]\n"
     ]
    }
   ],
   "source": [
    "text1 = '高兴'\n",
    "text2 = '开心'\n",
    "_ = sim(text1, text2)\n",
    "print('\\n')\n",
    "_ = paddle_sim(text1, text2)"
   ]
  },
  {
   "cell_type": "code",
   "execution_count": 8,
   "metadata": {},
   "outputs": [
    {
     "name": "stdout",
     "output_type": "stream",
     "text": [
      "score: 0.7473167564084009\n",
      "cos_sim: 0.4946335128168017\n",
      "cos_dis: 0.5053664871831983\n",
      "words1: ['伤心']\n",
      "words2: ['不', '开心']\n",
      "ids1 [6735]\n",
      "ids2 [51, 6473]\n",
      "\n",
      "\n",
      "paddle_score: 0.6418545701125207\n",
      "paddle_cos_sim: 0.2837091402250414\n",
      "paddle_cos_dis: 0.7162908597749587\n",
      "paddle_words1: ['伤心']\n",
      "paddle_words2: ['不', '开心']\n",
      "paddle_ids1 [124147]\n",
      "paddle_ids2 [51832, 457777]\n"
     ]
    }
   ],
   "source": [
    "text1 = '伤心'\n",
    "text2 = '不开心'\n",
    "_ = sim(text1, text2)\n",
    "print('\\n')\n",
    "_ = paddle_sim(text1, text2)"
   ]
  },
  {
   "cell_type": "code",
   "execution_count": 9,
   "metadata": {},
   "outputs": [
    {
     "name": "stdout",
     "output_type": "stream",
     "text": [
      "score: 0.9570162769504424\n",
      "cos_sim: 0.9140325539008848\n",
      "cos_dis: 0.08596744609911522\n",
      "words1: ['我', '很', '开心']\n",
      "words2: ['我', '很', '高兴']\n",
      "ids1 [73, 363, 6473]\n",
      "ids2 [73, 363, 4764]\n",
      "\n",
      "\n",
      "paddle_score: 0.8808241778335343\n",
      "paddle_cos_sim: 0.7616483556670686\n",
      "paddle_cos_dis: 0.23835164433293143\n",
      "paddle_words1: ['我', '很', '开心']\n",
      "paddle_words2: ['我', '很', '高兴']\n",
      "paddle_ids1 [445680, 483704, 457777]\n",
      "paddle_ids2 [445680, 483704, 410020]\n"
     ]
    }
   ],
   "source": [
    "text1 = '我很开心'\n",
    "text2 = '我很高兴'\n",
    "_ = sim(text1, text2)\n",
    "print('\\n')\n",
    "_ = paddle_sim(text1, text2)"
   ]
  },
  {
   "cell_type": "code",
   "execution_count": 10,
   "metadata": {},
   "outputs": [
    {
     "name": "stdout",
     "output_type": "stream",
     "text": [
      "score: 0.8448190526511059\n",
      "cos_sim: 0.6896381053022118\n",
      "cos_dis: 0.3103618946977882\n",
      "words1: ['我', '特别', '特别', '开心']\n",
      "words2: ['我', '很', '高兴']\n",
      "ids1 [73, 405, 405, 6473]\n",
      "ids2 [73, 363, 4764]\n",
      "\n",
      "\n",
      "paddle_score: 0.8643486089250102\n",
      "paddle_cos_sim: 0.7286972178500204\n",
      "paddle_cos_dis: 0.2713027821499796\n",
      "paddle_words1: ['我', '特别', '特别', '开心']\n",
      "paddle_words2: ['我', '很', '高兴']\n",
      "paddle_ids1 [445680, 484013, 484013, 457777]\n",
      "paddle_ids2 [445680, 483704, 410020]\n"
     ]
    }
   ],
   "source": [
    "text1 = '我特别特别开心'\n",
    "text2 = '我很高兴'\n",
    "_ = sim(text1, text2)\n",
    "print('\\n')\n",
    "_ = paddle_sim(text1, text2)"
   ]
  },
  {
   "cell_type": "code",
   "execution_count": 11,
   "metadata": {},
   "outputs": [
    {
     "name": "stdout",
     "output_type": "stream",
     "text": [
      "score: 0.9325086328895044\n",
      "cos_sim: 0.8650172657790087\n",
      "cos_dis: 0.13498273422099127\n",
      "words1: ['我', '其实', '觉得', '自己', '很', '开心']\n",
      "words2: ['我', '很', '高兴']\n",
      "ids1 [73, 968, 1148, 57, 363, 6473]\n",
      "ids2 [73, 363, 4764]\n",
      "\n",
      "\n",
      "paddle_score: 0.8420618349095348\n",
      "paddle_cos_sim: 0.6841236698190695\n",
      "paddle_cos_dis: 0.31587633018093053\n",
      "paddle_words1: ['我', '其实', '觉得', '自己', '很', '开心']\n",
      "paddle_words2: ['我', '很', '高兴']\n",
      "paddle_ids1 [445680, 498032, 242293, 487829, 483704, 457777]\n",
      "paddle_ids2 [445680, 483704, 410020]\n"
     ]
    }
   ],
   "source": [
    "text1 = '我其实觉得自己很开心'\n",
    "text2 = '我很高兴'\n",
    "_ = sim(text1, text2)\n",
    "print('\\n')\n",
    "_ = paddle_sim(text1, text2)"
   ]
  },
  {
   "cell_type": "code",
   "execution_count": 12,
   "metadata": {},
   "outputs": [
    {
     "name": "stdout",
     "output_type": "stream",
     "text": [
      "score: 0.9325086328895044\n",
      "cos_sim: 0.8650172657790087\n",
      "cos_dis: 0.13498273422099127\n",
      "words1: ['我', '其实', '觉得', '自己', '很', '开心']\n",
      "words2: ['我', '很', '高兴']\n",
      "ids1 [73, 968, 1148, 57, 363, 6473]\n",
      "ids2 [73, 363, 4764]\n",
      "\n",
      "\n",
      "paddle_score: 0.8420618349095348\n",
      "paddle_cos_sim: 0.6841236698190695\n",
      "paddle_cos_dis: 0.31587633018093053\n",
      "paddle_words1: ['我', '其实', '觉得', '自己', '很', '开心']\n",
      "paddle_words2: ['我', '很', '高兴']\n",
      "paddle_ids1 [445680, 498032, 242293, 487829, 483704, 457777]\n",
      "paddle_ids2 [445680, 483704, 410020]\n"
     ]
    }
   ],
   "source": [
    "text1 = '我其实觉得自己很开心'\n",
    "text2 = '我很高兴'\n",
    "_ = sim(text1, text2)\n",
    "print('\\n')\n",
    "_ = paddle_sim(text1, text2)"
   ]
  },
  {
   "cell_type": "code",
   "execution_count": 13,
   "metadata": {},
   "outputs": [
    {
     "name": "stdout",
     "output_type": "stream",
     "text": [
      "score: 0.9015086602997187\n",
      "cos_sim: 0.8030173205994372\n",
      "cos_dis: 0.1969826794005628\n",
      "words1: ['我', '不', '开心']\n",
      "words2: ['我', '很', '高兴']\n",
      "ids1 [73, 51, 6473]\n",
      "ids2 [73, 363, 4764]\n",
      "\n",
      "\n",
      "paddle_score: 0.8109343745959197\n",
      "paddle_cos_sim: 0.6218687491918392\n",
      "paddle_cos_dis: 0.3781312508081608\n",
      "paddle_words1: ['我', '不', '开心']\n",
      "paddle_words2: ['我', '很', '高兴']\n",
      "paddle_ids1 [445680, 51832, 457777]\n",
      "paddle_ids2 [445680, 483704, 410020]\n"
     ]
    }
   ],
   "source": [
    "text1 = '我不开心'\n",
    "text2 = '我很高兴'\n",
    "_ = sim(text1, text2)\n",
    "print('\\n')\n",
    "_ = paddle_sim(text1, text2)"
   ]
  },
  {
   "cell_type": "code",
   "execution_count": 14,
   "metadata": {},
   "outputs": [
    {
     "name": "stdout",
     "output_type": "stream",
     "text": [
      "score: 0.7024310208935683\n",
      "cos_sim: 0.4048620417871367\n",
      "cos_dis: 0.5951379582128633\n",
      "words1: ['函数', '将', '一个', '数据', '集合', '（', '链表', '，', '元组', '等', '）', '中', '的', '所有', '数据', '进行', '下列', '操作']\n",
      "words2: ['微粒', '贷']\n",
      "ids1 [2130, 60, 25, 609, 5846, 15, 83145, 0, 90464, 23, 17, 27, 1, 294, 609, 59, 2856, 780]\n",
      "ids2 [19340, 20983]\n",
      "\n",
      "\n",
      "paddle_score: 0.5594106757860289\n",
      "paddle_cos_sim: 0.11882135157205781\n",
      "paddle_cos_dis: 0.8811786484279422\n",
      "paddle_words1: ['函数', '将', '一个', '数据', '集合', '（', '链表', '，', '元组', '等', '）', '中', '的', '所有', '数据', '进行', '下列', '操作']\n",
      "paddle_words2: ['微粒', '贷']\n",
      "paddle_ids1 [244637, 310705, 419503, 21870, 240579, 397594, 171938, 338628, 82131, 2465, 145998, 493310, 423467, 137401, 21870, 132441, 194865, 317771]\n",
      "paddle_ids2 [58029, 499964]\n"
     ]
    }
   ],
   "source": [
    "text1 = '函数将一个数据集合（链表，元组等）中的所有数据进行下列操作'\n",
    "text2 = '微粒贷'\n",
    "_ = sim(text1, text2)\n",
    "print('\\n')\n",
    "_ = paddle_sim(text1, text2)"
   ]
  },
  {
   "cell_type": "code",
   "execution_count": null,
   "metadata": {},
   "outputs": [],
   "source": []
  }
 ],
 "metadata": {
  "kernelspec": {
   "display_name": "Python 3",
   "language": "python",
   "name": "python3"
  },
  "language_info": {
   "codemirror_mode": {
    "name": "ipython",
    "version": 3
   },
   "file_extension": ".py",
   "mimetype": "text/x-python",
   "name": "python",
   "nbconvert_exporter": "python",
   "pygments_lexer": "ipython3",
   "version": "3.7.3"
  }
 },
 "nbformat": 4,
 "nbformat_minor": 2
}
