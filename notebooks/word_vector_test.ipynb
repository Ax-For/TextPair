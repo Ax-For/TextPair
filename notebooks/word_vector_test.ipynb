{
 "cells": [
  {
   "cell_type": "code",
   "execution_count": 1,
   "metadata": {},
   "outputs": [],
   "source": [
    "import os\n",
    "import jieba\n",
    "import pickle\n",
    "import pandas as pd\n",
    "import numpy as np\n",
    "from tqdm import tqdm\n",
    "from functools import reduce\n",
    "from sklearn.metrics.pairwise import cosine_similarity, cosine_distances"
   ]
  },
  {
   "cell_type": "code",
   "execution_count": 2,
   "metadata": {},
   "outputs": [],
   "source": [
    "WORD_VEC_PATH = '/efs/downloads/word_vector/sgns.baidubaike.bigram-char'\n",
    "LINE_NUM = 635975\n",
    "\n",
    "PADDLE_BOW_WORD_VEC_PKL = '../data/paddle_models/sim_net/word_vec/paddle_bow_wv.pkl'"
   ]
  },
  {
   "cell_type": "code",
   "execution_count": 3,
   "metadata": {},
   "outputs": [],
   "source": [
    "def read_vectors(path, topn):  # read top n word vectors, i.e. top is 10000\n",
    "    lines_num, dim = 0, 0\n",
    "    vectors = {}\n",
    "    iw = []\n",
    "    wi = {}\n",
    "    with open(path, encoding='utf-8', errors='ignore') as f:\n",
    "        first_line = True\n",
    "        for line in tqdm(f, total= topn):\n",
    "            if first_line:\n",
    "                first_line = False\n",
    "                dim = int(line.rstrip().split()[1])\n",
    "                continue\n",
    "            lines_num += 1\n",
    "            tokens = line.rstrip().split(' ')\n",
    "            vectors[tokens[0]] = np.asarray([float(x) for x in tokens[1:]])\n",
    "            iw.append(tokens[0])\n",
    "            if topn != 0 and lines_num >= topn:\n",
    "                break\n",
    "    for i, w in enumerate(iw):\n",
    "        wi[w] = i\n",
    "    return vectors, iw, wi, dim\n",
    "\n",
    "\n",
    "def read_paddle_bow_vectors(pkl):\n",
    "    with open(pkl, 'rb') as f:\n",
    "        wv = pickle.load(f)\n",
    "        vectors = wv['embedding']\n",
    "        wi = wv['w2i']\n",
    "    return vectors, wi, len(vectors[0])"
   ]
  },
  {
   "cell_type": "code",
   "execution_count": 4,
   "metadata": {},
   "outputs": [
    {
     "name": "stderr",
     "output_type": "stream",
     "text": [
      "100%|██████████| 635975/635975 [00:59<00:00, 10658.30it/s]\n"
     ]
    }
   ],
   "source": [
    "vecotrs, iw, wi, dim = read_vectors(WORD_VEC_PATH, LINE_NUM)"
   ]
  },
  {
   "cell_type": "code",
   "execution_count": 5,
   "metadata": {},
   "outputs": [],
   "source": [
    "paddle_vectors, paddle_wi, paddle_dim = read_paddle_bow_vectors(PADDLE_BOW_WORD_VEC_PKL)"
   ]
  },
  {
   "cell_type": "code",
   "execution_count": 6,
   "metadata": {},
   "outputs": [],
   "source": [
    "def wv_cos_sim(text1, text2):\n",
    "    words1 = jieba.lcut(text1)\n",
    "    words2 = jieba.lcut(text2)\n",
    "    ids1 = [wi[w] for w in words1 if w in wi]\n",
    "    ids2 = [wi[w] for w in words2 if w in wi]\n",
    "    vec1 = reduce(lambda x, y: x + y, (vecotrs[w] for w in words1 if w in wi), np.zeros(dim))\n",
    "    vec2 = reduce(lambda x, y: x + y, (vecotrs[w] for w in words2 if w in wi), np.zeros(dim))\n",
    "    vec1 = vec1.reshape(1, -1)\n",
    "    vec2 = vec2.reshape(1, -1)\n",
    "    cos_sim = cosine_similarity(vec1, vec2)[0,0]\n",
    "    cos_dis = cosine_distances(vec1, vec2)[0,0]\n",
    "    score = (cos_sim + 1.0)/ 2.0\n",
    "    print(\"wv_cos_score:\", score)\n",
    "#     print('wv_cos_sim:', cos_sim)\n",
    "#     print('cos_dis:', cos_dis)\n",
    "#     print('words1:', words1)\n",
    "#     print('words2:', words2)\n",
    "#     print('ids1', ids1)\n",
    "#     print('ids2', ids2)\n",
    "    return score, cos_sim, cos_dis, words1, words2, ids1, ids2\n",
    "\n",
    "def wv_contractive_sim(text1, text2):\n",
    "    words1 = jieba.lcut(text1)\n",
    "    words2 = jieba.lcut(text2)\n",
    "    ids1 = [wi[w] for w in words1 if w in wi]\n",
    "    ids2 = [wi[w] for w in words2 if w in wi]\n",
    "    vec1 = reduce(lambda x, y: x + y, (vecotrs[w] for w in words1 if w in wi), np.zeros(dim))\n",
    "    vec2 = reduce(lambda x, y: x + y, (vecotrs[w] for w in words2 if w in wi), np.zeros(dim))\n",
    "    out1 = vec1 = vec1.reshape(1, -1)\n",
    "    out2 = vec2 = vec2.reshape(1, -1)\n",
    "\n",
    "    eps = 1e-5\n",
    "    dis = np.linalg.norm(out1 - out2, axis = 1)\n",
    "    norm1 = np.linalg.norm(out1, axis=1)\n",
    "    norm2 = np.linalg.norm(out2, axis=1)\n",
    "    score = 1 - dis / (norm1 + norm2 + eps)\n",
    "    score = score[0]\n",
    "    \n",
    "    print(\"wv_contractive_score:\", score)\n",
    "#     print('words1:', words1)\n",
    "#     print('words2:', words2)\n",
    "#     print('ids1', ids1)\n",
    "#     print('ids2', ids2)\n",
    "    return score, words1, words2, ids1, ids2\n",
    "\n",
    "\n",
    "def paddle_wv_cos_sim(text1, text2):\n",
    "    words1 = jieba.lcut(text1)\n",
    "    words2 = jieba.lcut(text2)\n",
    "    ids1 = [paddle_wi[w] for w in words1 if w in paddle_wi]\n",
    "    ids2 = [paddle_wi[w] for w in words2 if w in paddle_wi]\n",
    "    vec1 = reduce(lambda x, y: x + y, (paddle_vectors[i] for i in ids1), np.zeros(paddle_dim))\n",
    "    vec2 = reduce(lambda x, y: x + y, (paddle_vectors[i] for i in ids2), np.zeros(paddle_dim))\n",
    "    vec1 = vec1.reshape(1, -1)\n",
    "    vec2 = vec2.reshape(1, -1)\n",
    "    cos_sim = cosine_similarity(vec1, vec2)[0,0]\n",
    "    cos_dis = cosine_distances(vec1, vec2)[0,0]\n",
    "    score = (cos_sim + 1.0)/ 2.0\n",
    "    print(\"paddle_wv_cos_score:\", score)\n",
    "#     print('paddle_wv_cos_sim:', cos_sim)\n",
    "#     print('paddle_cos_dis:', cos_dis)\n",
    "#     print('paddle_words1:', words1)\n",
    "#     print('paddle_words2:', words2)\n",
    "#     print('paddle_ids1', ids1)\n",
    "#     print('paddle_ids2', ids2)\n",
    "    return score, cos_sim, cos_dis, words1, words2, ids1, ids2\n",
    "\n",
    "def paddle_wv_contractive_sim(text1, text2):\n",
    "    words1 = jieba.lcut(text1)\n",
    "    words2 = jieba.lcut(text2)\n",
    "    ids1 = [paddle_wi[w] for w in words1 if w in paddle_wi]\n",
    "    ids2 = [paddle_wi[w] for w in words2 if w in paddle_wi]\n",
    "    vec1 = reduce(lambda x, y: x + y, (paddle_vectors[i] for i in ids1), np.zeros(paddle_dim))\n",
    "    vec2 = reduce(lambda x, y: x + y, (paddle_vectors[i] for i in ids2), np.zeros(paddle_dim))\n",
    "    out1 = vec1 = vec1.reshape(1, -1)\n",
    "    out2 = vec2 = vec2.reshape(1, -1)\n",
    "    \n",
    "    eps = 1e-5\n",
    "    dis = np.linalg.norm(out1 - out2, axis = 1)\n",
    "    norm1 = np.linalg.norm(out1, axis=1)\n",
    "    norm2 = np.linalg.norm(out2, axis=1)\n",
    "    score = 1 - dis / (norm1 + norm2 + eps)\n",
    "    score = score[0]\n",
    "    \n",
    "    print(\"paddle_wv_contractive_score:\", score)\n",
    "#     print('paddle_cos_dis:', cos_dis)\n",
    "#     print('paddle_words1:', words1)\n",
    "#     print('paddle_words2:', words2)\n",
    "#     print('paddle_ids1', ids1)\n",
    "#     print('paddle_ids2', ids2)\n",
    "    return score, words1, words2, ids1, ids2"
   ]
  },
  {
   "cell_type": "code",
   "execution_count": 7,
   "metadata": {},
   "outputs": [
    {
     "name": "stderr",
     "output_type": "stream",
     "text": [
      "Building prefix dict from the default dictionary ...\n",
      "Loading model from cache /tmp/jieba.cache\n",
      "Loading model cost 0.716 seconds.\n",
      "Prefix dict has been built succesfully.\n"
     ]
    },
    {
     "name": "stdout",
     "output_type": "stream",
     "text": [
      "wv_cos_score: 0.8281019216369938\n",
      "wv_contractive_score: 0.5852930547954851\n",
      "\n",
      "\n",
      "paddle_wv_cos_score: 0.6905868668471822\n",
      "paddle_wv_contractive_score: 0.4424834449251699\n"
     ]
    }
   ],
   "source": [
    "text1 = '高兴'\n",
    "text2 = '开心'\n",
    "_ = wv_cos_sim(text1, text2)\n",
    "# print('\\n')\n",
    "_ = wv_contractive_sim(text1, text2)\n",
    "print('\\n')\n",
    "_ = paddle_wv_cos_sim(text1, text2)\n",
    "# print('\\n')\n",
    "_ = paddle_wv_contractive_sim(text1, text2)"
   ]
  },
  {
   "cell_type": "markdown",
   "metadata": {},
   "source": [
    "# 一般用例"
   ]
  },
  {
   "cell_type": "code",
   "execution_count": 8,
   "metadata": {},
   "outputs": [
    {
     "name": "stdout",
     "output_type": "stream",
     "text": [
      "wv_cos_score: 0.9570162769504424\n",
      "wv_contractive_score: 0.7926704162681197\n",
      "paddle_wv_cos_score: 0.8808241778335343\n",
      "paddle_wv_contractive_score: 0.6536591991951604\n"
     ]
    }
   ],
   "source": [
    "text1 = \"我很高兴\"\n",
    "text2 = \"我很开心\"\n",
    "_ = wv_cos_sim(text1, text2)\n",
    "# print('\\n')\n",
    "_ = wv_contractive_sim(text1, text2)\n",
    "# print('\\n')\n",
    "_ = paddle_wv_cos_sim(text1, text2)\n",
    "# print('\\n')\n",
    "_ = paddle_wv_contractive_sim(text1, text2)"
   ]
  },
  {
   "cell_type": "code",
   "execution_count": 9,
   "metadata": {},
   "outputs": [
    {
     "name": "stdout",
     "output_type": "stream",
     "text": [
      "wv_cos_score: 0.9570162769504424\n",
      "wv_contractive_score: 0.7926704162681197\n",
      "paddle_wv_cos_score: 0.8808241778335343\n",
      "paddle_wv_contractive_score: 0.6536591991951604\n"
     ]
    }
   ],
   "source": [
    "text1 = \"我很开心\"\n",
    "text2 = \"我很高兴\"\n",
    "_ = wv_cos_sim(text1, text2)\n",
    "# print('\\n')\n",
    "_ = wv_contractive_sim(text1, text2)\n",
    "# print('\\n')\n",
    "_ = paddle_wv_cos_sim(text1, text2)\n",
    "# print('\\n')\n",
    "_ = paddle_wv_contractive_sim(text1, text2)"
   ]
  },
  {
   "cell_type": "code",
   "execution_count": 10,
   "metadata": {},
   "outputs": [
    {
     "name": "stdout",
     "output_type": "stream",
     "text": [
      "wv_cos_score: 0.8448190526511059\n",
      "wv_contractive_score: 0.5864756499541417\n",
      "paddle_wv_cos_score: 0.8643486089250102\n",
      "paddle_wv_contractive_score: 0.5880322239663949\n"
     ]
    }
   ],
   "source": [
    "text1 = \"我很高兴\"\n",
    "text2 = \"我特别特别开心\"\n",
    "_ = wv_cos_sim(text1, text2)\n",
    "# print('\\n')\n",
    "_ = wv_contractive_sim(text1, text2)\n",
    "# print('\\n')\n",
    "_ = paddle_wv_cos_sim(text1, text2)\n",
    "# print('\\n')\n",
    "_ = paddle_wv_contractive_sim(text1, text2)"
   ]
  },
  {
   "cell_type": "code",
   "execution_count": 11,
   "metadata": {},
   "outputs": [
    {
     "name": "stdout",
     "output_type": "stream",
     "text": [
      "wv_cos_score: 0.9325086328895044\n",
      "wv_contractive_score: 0.6104962167177967\n",
      "paddle_wv_cos_score: 0.8420618349095348\n",
      "paddle_wv_contractive_score: 0.3993552045187527\n"
     ]
    }
   ],
   "source": [
    "text1 = \"我很高兴\"\n",
    "text2 = \"我其实觉得自己很开心\"\n",
    "_ = wv_cos_sim(text1, text2)\n",
    "# print('\\n')\n",
    "_ = wv_contractive_sim(text1, text2)\n",
    "# print('\\n')\n",
    "_ = paddle_wv_cos_sim(text1, text2)\n",
    "# print('\\n')\n",
    "_ = paddle_wv_contractive_sim(text1, text2)"
   ]
  },
  {
   "cell_type": "code",
   "execution_count": 12,
   "metadata": {},
   "outputs": [
    {
     "name": "stdout",
     "output_type": "stream",
     "text": [
      "wv_cos_score: 0.8589374021662693\n",
      "wv_contractive_score: 0.5924577994563505\n",
      "paddle_wv_cos_score: 0.8926304995019502\n",
      "paddle_wv_contractive_score: 0.5517033243257636\n"
     ]
    }
   ],
   "source": [
    "text1 = \"我特别特别开心\"\n",
    "text2 = \"我其实觉得自己很开心\"\n",
    "_ = wv_cos_sim(text1, text2)\n",
    "# print('\\n')\n",
    "_ = wv_contractive_sim(text1, text2)\n",
    "# print('\\n')\n",
    "_ = paddle_wv_cos_sim(text1, text2)\n",
    "# print('\\n')\n",
    "_ = paddle_wv_contractive_sim(text1, text2)"
   ]
  },
  {
   "cell_type": "code",
   "execution_count": 13,
   "metadata": {},
   "outputs": [
    {
     "name": "stdout",
     "output_type": "stream",
     "text": [
      "wv_cos_score: 0.9015086602997187\n",
      "wv_contractive_score: 0.6846698339712085\n",
      "paddle_wv_cos_score: 0.8109343745959197\n",
      "paddle_wv_contractive_score: 0.5448094889725493\n"
     ]
    }
   ],
   "source": [
    "text1 = \"我很高兴\"\n",
    "text2 = \"我不开心\"\n",
    "_ = wv_cos_sim(text1, text2)\n",
    "# print('\\n')\n",
    "_ = wv_contractive_sim(text1, text2)\n",
    "# print('\\n')\n",
    "_ = paddle_wv_cos_sim(text1, text2)\n",
    "# print('\\n')\n",
    "_ = paddle_wv_contractive_sim(text1, text2)"
   ]
  },
  {
   "cell_type": "code",
   "execution_count": 14,
   "metadata": {},
   "outputs": [
    {
     "name": "stdout",
     "output_type": "stream",
     "text": [
      "wv_cos_score: 0.9501109405497903\n",
      "wv_contractive_score: 0.7742153197319808\n",
      "paddle_wv_cos_score: 0.9183226619661914\n",
      "paddle_wv_contractive_score: 0.6971149910566445\n"
     ]
    }
   ],
   "source": [
    "text1 = \"我很高兴\"\n",
    "text2 = \"我不高兴\"\n",
    "_ = wv_cos_sim(text1, text2)\n",
    "# print('\\n')\n",
    "_ = wv_contractive_sim(text1, text2)\n",
    "# print('\\n')\n",
    "_ = paddle_wv_cos_sim(text1, text2)\n",
    "# print('\\n')\n",
    "_ = paddle_wv_contractive_sim(text1, text2)"
   ]
  },
  {
   "cell_type": "code",
   "execution_count": 15,
   "metadata": {},
   "outputs": [
    {
     "name": "stdout",
     "output_type": "stream",
     "text": [
      "wv_cos_score: 1.0\n",
      "wv_contractive_score: 1.0\n",
      "paddle_wv_cos_score: 0.9999999999999999\n",
      "paddle_wv_contractive_score: 1.0\n"
     ]
    }
   ],
   "source": [
    "text1 = \"我很高兴\"\n",
    "text2 = \"我很高兴\"\n",
    "_ = wv_cos_sim(text1, text2)\n",
    "# print('\\n')\n",
    "_ = wv_contractive_sim(text1, text2)\n",
    "# print('\\n')\n",
    "_ = paddle_wv_cos_sim(text1, text2)\n",
    "# print('\\n')\n",
    "_ = paddle_wv_contractive_sim(text1, text2)"
   ]
  },
  {
   "cell_type": "code",
   "execution_count": 16,
   "metadata": {},
   "outputs": [
    {
     "name": "stdout",
     "output_type": "stream",
     "text": [
      "wv_cos_score: 0.967386685677459\n",
      "wv_contractive_score: 0.8184265749242942\n",
      "paddle_wv_cos_score: 0.9031836876042222\n",
      "paddle_wv_contractive_score: 0.6882917583529546\n"
     ]
    }
   ],
   "source": [
    "text1 = \"我很伤心\"\n",
    "text2 = \"我很难过\"\n",
    "_ = wv_cos_sim(text1, text2)\n",
    "# print('\\n')\n",
    "_ = wv_contractive_sim(text1, text2)\n",
    "# print('\\n')\n",
    "_ = paddle_wv_cos_sim(text1, text2)\n",
    "# print('\\n')\n",
    "_ = paddle_wv_contractive_sim(text1, text2)"
   ]
  },
  {
   "cell_type": "code",
   "execution_count": 17,
   "metadata": {},
   "outputs": [
    {
     "name": "stdout",
     "output_type": "stream",
     "text": [
      "wv_cos_score: 0.7265842940035037\n",
      "wv_contractive_score: 0.4696840389546333\n",
      "paddle_wv_cos_score: 0.772969949751045\n",
      "paddle_wv_contractive_score: 0.5123438581363968\n"
     ]
    }
   ],
   "source": [
    "text1 = \"真好\"\n",
    "text2 = \"不错\"\n",
    "_ = wv_cos_sim(text1, text2)\n",
    "# print('\\n')\n",
    "_ = wv_contractive_sim(text1, text2)\n",
    "# print('\\n')\n",
    "_ = paddle_wv_cos_sim(text1, text2)\n",
    "# print('\\n')\n",
    "_ = paddle_wv_contractive_sim(text1, text2)"
   ]
  },
  {
   "cell_type": "code",
   "execution_count": 18,
   "metadata": {},
   "outputs": [
    {
     "name": "stdout",
     "output_type": "stream",
     "text": [
      "wv_cos_score: 0.8281019216369938\n",
      "wv_contractive_score: 0.5852930547954851\n",
      "paddle_wv_cos_score: 0.6905868668471822\n",
      "paddle_wv_contractive_score: 0.4424834449251699\n"
     ]
    }
   ],
   "source": [
    "text1 = \"高兴\"\n",
    "text2 = \"开心\"\n",
    "_ = wv_cos_sim(text1, text2)\n",
    "# print('\\n')\n",
    "_ = wv_contractive_sim(text1, text2)\n",
    "# print('\\n')\n",
    "_ = paddle_wv_cos_sim(text1, text2)\n",
    "# print('\\n')\n",
    "_ = paddle_wv_contractive_sim(text1, text2)"
   ]
  },
  {
   "cell_type": "code",
   "execution_count": 19,
   "metadata": {},
   "outputs": [
    {
     "name": "stdout",
     "output_type": "stream",
     "text": [
      "wv_cos_score: 0.9999999999999999\n",
      "wv_contractive_score: 1.0\n",
      "paddle_wv_cos_score: 1.0\n",
      "paddle_wv_contractive_score: 1.0\n"
     ]
    }
   ],
   "source": [
    "text1 = \"大家好才是真的好\"\n",
    "text2 = \"大家好才是真的好\"\n",
    "_ = wv_cos_sim(text1, text2)\n",
    "# print('\\n')\n",
    "_ = wv_contractive_sim(text1, text2)\n",
    "# print('\\n')\n",
    "_ = paddle_wv_cos_sim(text1, text2)\n",
    "# print('\\n')\n",
    "_ = paddle_wv_contractive_sim(text1, text2)"
   ]
  },
  {
   "cell_type": "code",
   "execution_count": 20,
   "metadata": {},
   "outputs": [
    {
     "name": "stdout",
     "output_type": "stream",
     "text": [
      "wv_cos_score: 0.8746715977377394\n",
      "wv_contractive_score: 0.45459313729130923\n",
      "paddle_wv_cos_score: 0.9145588025993442\n",
      "paddle_wv_contractive_score: 0.47683956744520983\n"
     ]
    }
   ],
   "source": [
    "text1 = \"为什么能开出腾讯信用却没有微粒贷朋友的没用腾讯信用却有30000的额度呢\"\n",
    "text2 = \"我钱包里没有你们这个应用\"\n",
    "_ = wv_cos_sim(text1, text2)\n",
    "# print('\\n')\n",
    "_ = wv_contractive_sim(text1, text2)\n",
    "# print('\\n')\n",
    "_ = paddle_wv_cos_sim(text1, text2)\n",
    "# print('\\n')\n",
    "_ = paddle_wv_contractive_sim(text1, text2)"
   ]
  },
  {
   "cell_type": "code",
   "execution_count": 21,
   "metadata": {},
   "outputs": [
    {
     "name": "stdout",
     "output_type": "stream",
     "text": [
      "wv_cos_score: 0.752343381049728\n",
      "wv_contractive_score: 0.46237874882420593\n",
      "paddle_wv_cos_score: 0.6458158955009841\n",
      "paddle_wv_contractive_score: 0.39704336869787493\n"
     ]
    }
   ],
   "source": [
    "text1 = \"我也不知道\"\n",
    "text2 = \"好吧\"\n",
    "_ = wv_cos_sim(text1, text2)\n",
    "# print('\\n')\n",
    "_ = wv_contractive_sim(text1, text2)\n",
    "# print('\\n')\n",
    "_ = paddle_wv_cos_sim(text1, text2)\n",
    "# print('\\n')\n",
    "_ = paddle_wv_contractive_sim(text1, text2)"
   ]
  },
  {
   "cell_type": "code",
   "execution_count": 22,
   "metadata": {},
   "outputs": [
    {
     "name": "stdout",
     "output_type": "stream",
     "text": [
      "wv_cos_score: 0.8077021822927694\n",
      "wv_contractive_score: 0.5613108826953594\n",
      "paddle_wv_cos_score: 0.8072427005214211\n",
      "paddle_wv_contractive_score: 0.5609382808216271\n"
     ]
    }
   ],
   "source": [
    "text1 = \"深度学习\"\n",
    "text2 = \"机器学习\"\n",
    "_ = wv_cos_sim(text1, text2)\n",
    "# print('\\n')\n",
    "_ = wv_contractive_sim(text1, text2)\n",
    "# print('\\n')\n",
    "_ = paddle_wv_cos_sim(text1, text2)\n",
    "# print('\\n')\n",
    "_ = paddle_wv_contractive_sim(text1, text2)"
   ]
  },
  {
   "cell_type": "code",
   "execution_count": 23,
   "metadata": {},
   "outputs": [
    {
     "name": "stdout",
     "output_type": "stream",
     "text": [
      "wv_cos_score: 0.8077021822927694\n",
      "wv_contractive_score: 0.5613108826953594\n",
      "paddle_wv_cos_score: 0.8072427005214211\n",
      "paddle_wv_contractive_score: 0.5609382808216271\n"
     ]
    }
   ],
   "source": [
    "text1 = \"机器学习\"\n",
    "text2 = \"深度学习\"\n",
    "_ = wv_cos_sim(text1, text2)\n",
    "# print('\\n')\n",
    "_ = wv_contractive_sim(text1, text2)\n",
    "# print('\\n')\n",
    "_ = paddle_wv_cos_sim(text1, text2)\n",
    "# print('\\n')\n",
    "_ = paddle_wv_contractive_sim(text1, text2)"
   ]
  },
  {
   "cell_type": "code",
   "execution_count": 24,
   "metadata": {},
   "outputs": [
    {
     "name": "stdout",
     "output_type": "stream",
     "text": [
      "wv_cos_score: 0.9205896814384116\n",
      "wv_contractive_score: 0.7181795327040212\n",
      "paddle_wv_cos_score: 0.9451578094564517\n",
      "paddle_wv_contractive_score: 0.7294826528760326\n"
     ]
    }
   ],
   "source": [
    "text1 = \"人民团体是什么\"\n",
    "text2 = \"人民团体是指\"\n",
    "_ = wv_cos_sim(text1, text2)\n",
    "# print('\\n')\n",
    "_ = wv_contractive_sim(text1, text2)\n",
    "# print('\\n')\n",
    "_ = paddle_wv_cos_sim(text1, text2)\n",
    "# print('\\n')\n",
    "_ = paddle_wv_contractive_sim(text1, text2)"
   ]
  },
  {
   "cell_type": "markdown",
   "metadata": {},
   "source": [
    "# 百度-车牌，不太一致"
   ]
  },
  {
   "cell_type": "code",
   "execution_count": 25,
   "metadata": {},
   "outputs": [
    {
     "name": "stdout",
     "output_type": "stream",
     "text": [
      "wv_cos_score: 0.8472181322669425\n",
      "wv_contractive_score: 0.6088366956951178\n",
      "paddle_wv_cos_score: 0.9054306614122677\n",
      "paddle_wv_contractive_score: 0.688717326916612\n"
     ]
    }
   ],
   "source": [
    "text1 = \"车头如何放置车牌\"\n",
    "text2 = \"前牌照怎么装\"\n",
    "_ = wv_cos_sim(text1, text2)\n",
    "# print('\\n')\n",
    "_ = wv_contractive_sim(text1, text2)\n",
    "# print('\\n')\n",
    "_ = paddle_wv_cos_sim(text1, text2)\n",
    "# print('\\n')\n",
    "_ = paddle_wv_contractive_sim(text1, text2)"
   ]
  },
  {
   "cell_type": "code",
   "execution_count": 26,
   "metadata": {},
   "outputs": [
    {
     "name": "stdout",
     "output_type": "stream",
     "text": [
      "wv_cos_score: 0.8525999363399437\n",
      "wv_contractive_score: 0.6160159198514521\n",
      "paddle_wv_cos_score: 0.9022443510648442\n",
      "paddle_wv_contractive_score: 0.6853736754468566\n"
     ]
    }
   ],
   "source": [
    "text1 = \"车头如何放置车牌\"\n",
    "text2 = \"如何办理北京车牌\"\n",
    "_ = wv_cos_sim(text1, text2)\n",
    "# print('\\n')\n",
    "_ = wv_contractive_sim(text1, text2)\n",
    "# print('\\n')\n",
    "_ = paddle_wv_cos_sim(text1, text2)\n",
    "# print('\\n')\n",
    "_ = paddle_wv_contractive_sim(text1, text2)"
   ]
  },
  {
   "cell_type": "code",
   "execution_count": 27,
   "metadata": {},
   "outputs": [
    {
     "name": "stdout",
     "output_type": "stream",
     "text": [
      "wv_cos_score: 0.8482941668533275\n",
      "wv_contractive_score: 0.6100026239017078\n",
      "paddle_wv_cos_score: 0.9024062911295447\n",
      "paddle_wv_contractive_score: 0.6726822485266621\n"
     ]
    }
   ],
   "source": [
    "text1 = \"车头如何放置车牌\"\n",
    "text2 = \"后牌照怎么装\"\n",
    "_ = wv_cos_sim(text1, text2)\n",
    "# print('\\n')\n",
    "_ = wv_contractive_sim(text1, text2)\n",
    "# print('\\n')\n",
    "_ = paddle_wv_cos_sim(text1, text2)\n",
    "# print('\\n')\n",
    "_ = paddle_wv_contractive_sim(text1, text2)"
   ]
  },
  {
   "cell_type": "markdown",
   "metadata": {},
   "source": [
    "# 百度-信号"
   ]
  },
  {
   "cell_type": "code",
   "execution_count": 28,
   "metadata": {},
   "outputs": [
    {
     "name": "stdout",
     "output_type": "stream",
     "text": [
      "wv_cos_score: 0.9456504264480937\n",
      "wv_contractive_score: 0.7515324679204718\n",
      "paddle_wv_cos_score: 1.0\n",
      "paddle_wv_contractive_score: 1.0\n"
     ]
    }
   ],
   "source": [
    "text1 = \"信号忽强忽弱\"\n",
    "text2 = \"信号忽高忽低\"\n",
    "_ = wv_cos_sim(text1, text2)\n",
    "# print('\\n')\n",
    "_ = wv_contractive_sim(text1, text2)\n",
    "# print('\\n')\n",
    "_ = paddle_wv_cos_sim(text1, text2)\n",
    "# print('\\n')\n",
    "_ = paddle_wv_contractive_sim(text1, text2)"
   ]
  },
  {
   "cell_type": "code",
   "execution_count": 29,
   "metadata": {},
   "outputs": [
    {
     "name": "stdout",
     "output_type": "stream",
     "text": [
      "wv_cos_score: 0.9473848671198349\n",
      "wv_contractive_score: 0.7653444985677005\n",
      "paddle_wv_cos_score: 1.0\n",
      "paddle_wv_contractive_score: 1.0\n"
     ]
    }
   ],
   "source": [
    "text1 = \"信号忽强忽弱\"\n",
    "text2 = \"信号忽左忽右\"\n",
    "_ = wv_cos_sim(text1, text2)\n",
    "# print('\\n')\n",
    "_ = wv_contractive_sim(text1, text2)\n",
    "# print('\\n')\n",
    "_ = paddle_wv_cos_sim(text1, text2)\n",
    "# print('\\n')\n",
    "_ = paddle_wv_contractive_sim(text1, text2)"
   ]
  },
  {
   "cell_type": "code",
   "execution_count": 30,
   "metadata": {},
   "outputs": [
    {
     "name": "stdout",
     "output_type": "stream",
     "text": [
      "wv_cos_score: 0.891666217443357\n",
      "wv_contractive_score: 0.6039585816425094\n",
      "paddle_wv_cos_score: 0.8336431249447759\n",
      "paddle_wv_contractive_score: 0.3138190207472159\n"
     ]
    }
   ],
   "source": [
    "text1 = \"信号忽强忽弱\"\n",
    "text2 = \"信号忽然中断\"\n",
    "_ = wv_cos_sim(text1, text2)\n",
    "# print('\\n')\n",
    "_ = wv_contractive_sim(text1, text2)\n",
    "# print('\\n')\n",
    "_ = paddle_wv_cos_sim(text1, text2)\n",
    "# print('\\n')\n",
    "_ = paddle_wv_contractive_sim(text1, text2)"
   ]
  },
  {
   "cell_type": "markdown",
   "metadata": {},
   "source": [
    "# 百度-机器学习"
   ]
  },
  {
   "cell_type": "code",
   "execution_count": 31,
   "metadata": {},
   "outputs": [
    {
     "name": "stdout",
     "output_type": "stream",
     "text": [
      "wv_cos_score: 0.8229907739842071\n",
      "wv_contractive_score: 0.5743127562808652\n",
      "paddle_wv_cos_score: 0.7769436355093958\n",
      "paddle_wv_contractive_score: 0.5229830811350675\n"
     ]
    }
   ],
   "source": [
    "text1 = \"如何学好深度学习\"\n",
    "text2 = \"深入学习习近平讲话材料\"\n",
    "_ = wv_cos_sim(text1, text2)\n",
    "# print('\\n')\n",
    "_ = wv_contractive_sim(text1, text2)\n",
    "# print('\\n')\n",
    "_ = paddle_wv_cos_sim(text1, text2)\n",
    "# print('\\n')\n",
    "_ = paddle_wv_contractive_sim(text1, text2)"
   ]
  },
  {
   "cell_type": "code",
   "execution_count": 32,
   "metadata": {},
   "outputs": [
    {
     "name": "stdout",
     "output_type": "stream",
     "text": [
      "wv_cos_score: 0.8474467180839824\n",
      "wv_contractive_score: 0.5991109928331003\n",
      "paddle_wv_cos_score: 0.8638531935037835\n",
      "paddle_wv_contractive_score: 0.5751737897625182\n"
     ]
    }
   ],
   "source": [
    "text1 = \"如何学好深度学习\"\n",
    "text2 = \"机器学习教程\"\n",
    "_ = wv_cos_sim(text1, text2)\n",
    "# print('\\n')\n",
    "_ = wv_contractive_sim(text1, text2)\n",
    "# print('\\n')\n",
    "_ = paddle_wv_cos_sim(text1, text2)\n",
    "# print('\\n')\n",
    "_ = paddle_wv_contractive_sim(text1, text2)"
   ]
  },
  {
   "cell_type": "code",
   "execution_count": 33,
   "metadata": {},
   "outputs": [
    {
     "name": "stdout",
     "output_type": "stream",
     "text": [
      "wv_cos_score: 0.7548484959727588\n",
      "wv_contractive_score: 0.4785972751606392\n",
      "paddle_wv_cos_score: 0.844388527200332\n",
      "paddle_wv_contractive_score: 0.5473747426721861\n"
     ]
    }
   ],
   "source": [
    "text1 = \"如何学好深度学习\"\n",
    "text2 = \"人工智能教程\"\n",
    "_ = wv_cos_sim(text1, text2)\n",
    "# print('\\n')\n",
    "_ = wv_contractive_sim(text1, text2)\n",
    "# print('\\n')\n",
    "_ = paddle_wv_cos_sim(text1, text2)\n",
    "# print('\\n')\n",
    "_ = paddle_wv_contractive_sim(text1, text2)"
   ]
  },
  {
   "cell_type": "markdown",
   "metadata": {},
   "source": [
    "# 百度-香蕉的翻译，偏小但排序一致"
   ]
  },
  {
   "cell_type": "code",
   "execution_count": 34,
   "metadata": {},
   "outputs": [
    {
     "name": "stdout",
     "output_type": "stream",
     "text": [
      "wv_cos_score: 0.8269175714674947\n",
      "wv_contractive_score: 0.5433842670117862\n",
      "paddle_wv_cos_score: 0.9121909132112216\n",
      "paddle_wv_contractive_score: 0.5963063373215077\n"
     ]
    }
   ],
   "source": [
    "text1 = \"香蕉的翻译\"\n",
    "text2 = \"香蕉用英文怎么说\"\n",
    "_ = wv_cos_sim(text1, text2)\n",
    "# print('\\n')\n",
    "_ = wv_contractive_sim(text1, text2)\n",
    "# print('\\n')\n",
    "_ = paddle_wv_cos_sim(text1, text2)\n",
    "# print('\\n')\n",
    "_ = paddle_wv_contractive_sim(text1, text2)"
   ]
  },
  {
   "cell_type": "code",
   "execution_count": 35,
   "metadata": {},
   "outputs": [
    {
     "name": "stdout",
     "output_type": "stream",
     "text": [
      "wv_cos_score: 0.8145810622602462\n",
      "wv_contractive_score: 0.5659560763843421\n",
      "paddle_wv_cos_score: 0.86359811523314\n",
      "paddle_wv_contractive_score: 0.616648138592799\n"
     ]
    }
   ],
   "source": [
    "text1 = \"香蕉的翻译\"\n",
    "text2 = \"香蕉怎么吃\"\n",
    "_ = wv_cos_sim(text1, text2)\n",
    "# print('\\n')\n",
    "_ = wv_contractive_sim(text1, text2)\n",
    "# print('\\n')\n",
    "_ = paddle_wv_cos_sim(text1, text2)\n",
    "# print('\\n')\n",
    "_ = paddle_wv_contractive_sim(text1, text2)"
   ]
  },
  {
   "cell_type": "code",
   "execution_count": 36,
   "metadata": {
    "scrolled": true
   },
   "outputs": [
    {
     "name": "stdout",
     "output_type": "stream",
     "text": [
      "wv_cos_score: 0.785925220470842\n",
      "wv_contractive_score: 0.5031901241093717\n",
      "paddle_wv_cos_score: 0.8170505774207248\n",
      "paddle_wv_contractive_score: 0.5142364377380706\n"
     ]
    }
   ],
   "source": [
    "text1 = \"香蕉的翻译\"\n",
    "text2 = \"桔子用英文怎么说\"\n",
    "_ = wv_cos_sim(text1, text2)\n",
    "# print('\\n')\n",
    "_ = wv_contractive_sim(text1, text2)\n",
    "# print('\\n')\n",
    "_ = paddle_wv_cos_sim(text1, text2)\n",
    "# print('\\n')\n",
    "_ = paddle_wv_contractive_sim(text1, text2)"
   ]
  },
  {
   "cell_type": "markdown",
   "metadata": {},
   "source": [
    "# 百度-腹泻，排序有差别"
   ]
  },
  {
   "cell_type": "code",
   "execution_count": 37,
   "metadata": {},
   "outputs": [
    {
     "name": "stdout",
     "output_type": "stream",
     "text": [
      "wv_cos_score: 0.9021876863102303\n",
      "wv_contractive_score: 0.6811934693561489\n",
      "paddle_wv_cos_score: 0.9498422633173413\n",
      "paddle_wv_contractive_score: 0.7653954485854974\n"
     ]
    }
   ],
   "source": [
    "text1 = \"小儿腹泻偏方\"\n",
    "text2 = \"宝宝拉肚子偏方\"\n",
    "_ = wv_cos_sim(text1, text2)\n",
    "# print('\\n')\n",
    "_ = wv_contractive_sim(text1, text2)\n",
    "# print('\\n')\n",
    "_ = paddle_wv_cos_sim(text1, text2)\n",
    "# print('\\n')\n",
    "_ = paddle_wv_contractive_sim(text1, text2)"
   ]
  },
  {
   "cell_type": "code",
   "execution_count": 38,
   "metadata": {},
   "outputs": [
    {
     "name": "stdout",
     "output_type": "stream",
     "text": [
      "wv_cos_score: 0.9610365368862377\n",
      "wv_contractive_score: 0.8023364923833134\n",
      "paddle_wv_cos_score: 0.9411412869373583\n",
      "paddle_wv_contractive_score: 0.7541986436709069\n"
     ]
    }
   ],
   "source": [
    "text1 = \"小儿腹泻偏方\"\n",
    "text2 = \"小儿感冒偏方\"\n",
    "_ = wv_cos_sim(text1, text2)\n",
    "# print('\\n')\n",
    "_ = wv_contractive_sim(text1, text2)\n",
    "# print('\\n')\n",
    "_ = paddle_wv_cos_sim(text1, text2)\n",
    "# print('\\n')\n",
    "_ = paddle_wv_contractive_sim(text1, text2)"
   ]
  },
  {
   "cell_type": "code",
   "execution_count": 39,
   "metadata": {},
   "outputs": [
    {
     "name": "stdout",
     "output_type": "stream",
     "text": [
      "wv_cos_score: 0.9691007194867957\n",
      "wv_contractive_score: 0.7645992940602572\n",
      "paddle_wv_cos_score: 0.925622652797353\n",
      "paddle_wv_contractive_score: 0.7004439253018993\n"
     ]
    }
   ],
   "source": [
    "text1 = \"小儿腹泻偏方\"\n",
    "text2 = \"腹泻偏方\"\n",
    "_ = wv_cos_sim(text1, text2)\n",
    "# print('\\n')\n",
    "_ = wv_contractive_sim(text1, text2)\n",
    "# print('\\n')\n",
    "_ = paddle_wv_cos_sim(text1, text2)\n",
    "# print('\\n')\n",
    "_ = paddle_wv_contractive_sim(text1, text2)"
   ]
  },
  {
   "cell_type": "markdown",
   "metadata": {},
   "source": [
    "# 百度-LOL，数值偏小，但排序一致"
   ]
  },
  {
   "cell_type": "code",
   "execution_count": 40,
   "metadata": {},
   "outputs": [
    {
     "name": "stdout",
     "output_type": "stream",
     "text": [
      "wv_cos_score: 0.7544918722999556\n",
      "wv_contractive_score: 0.3463905024992596\n",
      "paddle_wv_cos_score: 0.7834562258439148\n",
      "paddle_wv_contractive_score: 0.40074318366156425\n"
     ]
    }
   ],
   "source": [
    "text1 = \"英雄联盟好玩吗，怎么升级\"\n",
    "text2 = \"lol攻略\"\n",
    "_ = wv_cos_sim(text1, text2)\n",
    "# print('\\n')\n",
    "_ = wv_contractive_sim(text1, text2)\n",
    "# print('\\n')\n",
    "_ = paddle_wv_cos_sim(text1, text2)\n",
    "# print('\\n')\n",
    "_ = paddle_wv_contractive_sim(text1, text2)"
   ]
  },
  {
   "cell_type": "code",
   "execution_count": 41,
   "metadata": {},
   "outputs": [
    {
     "name": "stdout",
     "output_type": "stream",
     "text": [
      "wv_cos_score: 0.8789936376232452\n",
      "wv_contractive_score: 0.6199826139033153\n",
      "paddle_wv_cos_score: 0.8229713240725569\n",
      "paddle_wv_contractive_score: 0.43666092968399073\n"
     ]
    }
   ],
   "source": [
    "text1 = \"英雄联盟好玩吗，怎么升级\"\n",
    "text2 = \"英雄联盟服务器升级\"\n",
    "_ = wv_cos_sim(text1, text2)\n",
    "# print('\\n')\n",
    "_ = wv_contractive_sim(text1, text2)\n",
    "# print('\\n')\n",
    "_ = paddle_wv_cos_sim(text1, text2)\n",
    "# print('\\n')\n",
    "_ = paddle_wv_contractive_sim(text1, text2)"
   ]
  },
  {
   "cell_type": "code",
   "execution_count": 42,
   "metadata": {
    "scrolled": true
   },
   "outputs": [
    {
     "name": "stdout",
     "output_type": "stream",
     "text": [
      "wv_cos_score: 0.8182181028852128\n",
      "wv_contractive_score: 0.4673993151756787\n",
      "paddle_wv_cos_score: 0.9232834722351844\n",
      "paddle_wv_contractive_score: 0.5321528133134676\n"
     ]
    }
   ],
   "source": [
    "text1 = \"英雄联盟好玩吗，怎么升级\"\n",
    "text2 = \"怎么打好lol\"\n",
    "_ = wv_cos_sim(text1, text2)\n",
    "# print('\\n')\n",
    "_ = wv_contractive_sim(text1, text2)\n",
    "# print('\\n')\n",
    "_ = paddle_wv_cos_sim(text1, text2)\n",
    "# print('\\n')\n",
    "_ = paddle_wv_contractive_sim(text1, text2)"
   ]
  },
  {
   "cell_type": "markdown",
   "metadata": {},
   "source": [
    "# 百度-红米"
   ]
  },
  {
   "cell_type": "code",
   "execution_count": 43,
   "metadata": {},
   "outputs": [
    {
     "name": "stdout",
     "output_type": "stream",
     "text": [
      "wv_cos_score: 0.8869212793184333\n",
      "wv_contractive_score: 0.6442268981822192\n",
      "paddle_wv_cos_score: 0.9773239201825801\n",
      "paddle_wv_contractive_score: 0.8492904696591512\n"
     ]
    }
   ],
   "source": [
    "text1 = \"红米更新出错\"\n",
    "text2 = \"红米升级系统出错\"\n",
    "_ = wv_cos_sim(text1, text2)\n",
    "# print('\\n')\n",
    "_ = wv_contractive_sim(text1, text2)\n",
    "# print('\\n')\n",
    "_ = paddle_wv_cos_sim(text1, text2)\n",
    "# print('\\n')\n",
    "_ = paddle_wv_contractive_sim(text1, text2)"
   ]
  },
  {
   "cell_type": "code",
   "execution_count": 44,
   "metadata": {},
   "outputs": [
    {
     "name": "stdout",
     "output_type": "stream",
     "text": [
      "wv_cos_score: 0.8171595794987088\n",
      "wv_contractive_score: 0.5721524632614874\n",
      "paddle_wv_cos_score: 0.9602569713652505\n",
      "paddle_wv_contractive_score: 0.799916821496678\n"
     ]
    }
   ],
   "source": [
    "text1 = \"红米更新出错\"\n",
    "text2 = \"红米账户出错\"\n",
    "_ = wv_cos_sim(text1, text2)\n",
    "# print('\\n')\n",
    "_ = wv_contractive_sim(text1, text2)\n",
    "# print('\\n')\n",
    "_ = paddle_wv_cos_sim(text1, text2)\n",
    "# print('\\n')\n",
    "_ = paddle_wv_contractive_sim(text1, text2)"
   ]
  },
  {
   "cell_type": "code",
   "execution_count": 45,
   "metadata": {},
   "outputs": [
    {
     "name": "stdout",
     "output_type": "stream",
     "text": [
      "wv_cos_score: 0.716509271565022\n",
      "wv_contractive_score: 0.43367116138509965\n",
      "paddle_wv_cos_score: 0.8650319952894423\n",
      "paddle_wv_contractive_score: 0.6271451365206246\n"
     ]
    }
   ],
   "source": [
    "text1 = \"红米更新出错\"\n",
    "text2 = \"如何买到小米手机\"\n",
    "_ = wv_cos_sim(text1, text2)\n",
    "# print('\\n')\n",
    "_ = wv_contractive_sim(text1, text2)\n",
    "# print('\\n')\n",
    "_ = paddle_wv_cos_sim(text1, text2)\n",
    "# print('\\n')\n",
    "_ = paddle_wv_contractive_sim(text1, text2)"
   ]
  },
  {
   "cell_type": "markdown",
   "metadata": {},
   "source": [
    "# 百度-李彦宏"
   ]
  },
  {
   "cell_type": "code",
   "execution_count": 46,
   "metadata": {},
   "outputs": [
    {
     "name": "stdout",
     "output_type": "stream",
     "text": [
      "wv_cos_score: 0.9291079155551757\n",
      "wv_contractive_score: 0.7315582662717826\n",
      "paddle_wv_cos_score: 0.9379429434515629\n",
      "paddle_wv_contractive_score: 0.7426660309177112\n"
     ]
    }
   ],
   "source": [
    "text1 = \"李彦宏是百度公司创始人\"\n",
    "text2 = \"百度是李彦宏创办的\"\n",
    "_ = wv_cos_sim(text1, text2)\n",
    "# print('\\n')\n",
    "_ = wv_contractive_sim(text1, text2)\n",
    "# print('\\n')\n",
    "_ = paddle_wv_cos_sim(text1, text2)\n",
    "# print('\\n')\n",
    "_ = paddle_wv_contractive_sim(text1, text2)"
   ]
  },
  {
   "cell_type": "code",
   "execution_count": 47,
   "metadata": {},
   "outputs": [
    {
     "name": "stdout",
     "output_type": "stream",
     "text": [
      "wv_cos_score: 0.8883458700743044\n",
      "wv_contractive_score: 0.665848450740703\n",
      "paddle_wv_cos_score: 0.7815430392282243\n",
      "paddle_wv_contractive_score: 0.5249245963579848\n"
     ]
    }
   ],
   "source": [
    "text1 = \"李彦宏是百度公司创始人\"\n",
    "text2 = \"马化腾创办了腾讯公司\"\n",
    "_ = wv_cos_sim(text1, text2)\n",
    "# print('\\n')\n",
    "_ = wv_contractive_sim(text1, text2)\n",
    "# print('\\n')\n",
    "_ = paddle_wv_cos_sim(text1, text2)\n",
    "# print('\\n')\n",
    "_ = paddle_wv_contractive_sim(text1, text2)"
   ]
  },
  {
   "cell_type": "code",
   "execution_count": 48,
   "metadata": {},
   "outputs": [
    {
     "name": "stdout",
     "output_type": "stream",
     "text": [
      "wv_cos_score: 0.7931885427567575\n",
      "wv_contractive_score: 0.538356102645319\n",
      "paddle_wv_cos_score: 0.8131982506917126\n",
      "paddle_wv_contractive_score: 0.5630062827957616\n"
     ]
    }
   ],
   "source": [
    "text1 = \"李彦宏是百度公司创始人\"\n",
    "text2 = \"姚明是NBA的著名球星\"\n",
    "_ = wv_cos_sim(text1, text2)\n",
    "# print('\\n')\n",
    "_ = wv_contractive_sim(text1, text2)\n",
    "# print('\\n')\n",
    "_ = paddle_wv_cos_sim(text1, text2)\n",
    "# print('\\n')\n",
    "_ = paddle_wv_contractive_sim(text1, text2)"
   ]
  },
  {
   "cell_type": "markdown",
   "metadata": {},
   "source": [
    "# 百度-中国历史"
   ]
  },
  {
   "cell_type": "code",
   "execution_count": 49,
   "metadata": {},
   "outputs": [
    {
     "name": "stdout",
     "output_type": "stream",
     "text": [
      "wv_cos_score: 0.898408357642802\n",
      "wv_contractive_score: 0.6310698984037133\n",
      "paddle_wv_cos_score: 0.8976356059987008\n",
      "paddle_wv_contractive_score: 0.6748279059922007\n"
     ]
    }
   ],
   "source": [
    "text1 = \"中国有五千年的历史\"\n",
    "text2 = \"中国是个历史悠久的国家\"\n",
    "_ = wv_cos_sim(text1, text2)\n",
    "# print('\\n')\n",
    "_ = wv_contractive_sim(text1, text2)\n",
    "# print('\\n')\n",
    "_ = paddle_wv_cos_sim(text1, text2)\n",
    "# print('\\n')\n",
    "_ = paddle_wv_contractive_sim(text1, text2)"
   ]
  },
  {
   "cell_type": "code",
   "execution_count": 50,
   "metadata": {},
   "outputs": [
    {
     "name": "stdout",
     "output_type": "stream",
     "text": [
      "wv_cos_score: 0.8610327244620704\n",
      "wv_contractive_score: 0.623092928340065\n",
      "paddle_wv_cos_score: 0.8607510944731321\n",
      "paddle_wv_contractive_score: 0.6231225893634298\n"
     ]
    }
   ],
   "source": [
    "text1 = \"中国有五千年的历史\"\n",
    "text2 = \"中国有很多少数民族\"\n",
    "_ = wv_cos_sim(text1, text2)\n",
    "# print('\\n')\n",
    "_ = wv_contractive_sim(text1, text2)\n",
    "# print('\\n')\n",
    "_ = paddle_wv_cos_sim(text1, text2)\n",
    "# print('\\n')\n",
    "_ = paddle_wv_contractive_sim(text1, text2)"
   ]
  },
  {
   "cell_type": "code",
   "execution_count": 51,
   "metadata": {},
   "outputs": [
    {
     "name": "stdout",
     "output_type": "stream",
     "text": [
      "wv_cos_score: 0.8244656029589372\n",
      "wv_contractive_score: 0.5680423119356994\n",
      "paddle_wv_cos_score: 0.7762823733834808\n",
      "paddle_wv_contractive_score: 0.5213492407177933\n"
     ]
    }
   ],
   "source": [
    "text1 = \"中国有五千年的历史\"\n",
    "text2 = \"中国有13亿人口\"\n",
    "_ = wv_cos_sim(text1, text2)\n",
    "# print('\\n')\n",
    "_ = wv_contractive_sim(text1, text2)\n",
    "# print('\\n')\n",
    "_ = paddle_wv_cos_sim(text1, text2)\n",
    "# print('\\n')\n",
    "_ = paddle_wv_contractive_sim(text1, text2)"
   ]
  },
  {
   "cell_type": "markdown",
   "metadata": {},
   "source": [
    "# 百度-北京奥运会，偏小，但数值一致"
   ]
  },
  {
   "cell_type": "code",
   "execution_count": 52,
   "metadata": {},
   "outputs": [
    {
     "name": "stdout",
     "output_type": "stream",
     "text": [
      "wv_cos_score: 0.9530094119475041\n",
      "wv_contractive_score: 0.7719337459520468\n",
      "paddle_wv_cos_score: 0.8978380784382165\n",
      "paddle_wv_contractive_score: 0.6595879107257957\n"
     ]
    }
   ],
   "source": [
    "text1 = \"北京成功申办了2008年奥运会\"\n",
    "text2 = \"2008年奥运会在北京举行\"\n",
    "_ = wv_cos_sim(text1, text2)\n",
    "# print('\\n')\n",
    "_ = wv_contractive_sim(text1, text2)\n",
    "# print('\\n')\n",
    "_ = paddle_wv_cos_sim(text1, text2)\n",
    "# print('\\n')\n",
    "_ = paddle_wv_contractive_sim(text1, text2)"
   ]
  },
  {
   "cell_type": "code",
   "execution_count": 53,
   "metadata": {},
   "outputs": [
    {
     "name": "stdout",
     "output_type": "stream",
     "text": [
      "wv_cos_score: 0.9237447994267305\n",
      "wv_contractive_score: 0.718513434592359\n",
      "paddle_wv_cos_score: 0.7929355569880036\n",
      "paddle_wv_contractive_score: 0.5412258281259482\n"
     ]
    }
   ],
   "source": [
    "text1 = \"北京成功申办了2008年奥运会\"\n",
    "text2 = \"伦敦奥运会在2012年举行\"\n",
    "_ = wv_cos_sim(text1, text2)\n",
    "# print('\\n')\n",
    "_ = wv_contractive_sim(text1, text2)\n",
    "# print('\\n')\n",
    "_ = paddle_wv_cos_sim(text1, text2)\n",
    "# print('\\n')\n",
    "_ = paddle_wv_contractive_sim(text1, text2)"
   ]
  },
  {
   "cell_type": "code",
   "execution_count": 54,
   "metadata": {},
   "outputs": [
    {
     "name": "stdout",
     "output_type": "stream",
     "text": [
      "wv_cos_score: 0.882547947410617\n",
      "wv_contractive_score: 0.6028934758641549\n",
      "paddle_wv_cos_score: 0.7931222344721893\n",
      "paddle_wv_contractive_score: 0.5193583901508702\n"
     ]
    }
   ],
   "source": [
    "text1 = \"北京成功申办了2008年奥运会\"\n",
    "text2 = \"东京奥运会即将举办\"\n",
    "_ = wv_cos_sim(text1, text2)\n",
    "# print('\\n')\n",
    "_ = wv_contractive_sim(text1, text2)\n",
    "# print('\\n')\n",
    "_ = paddle_wv_cos_sim(text1, text2)\n",
    "# print('\\n')\n",
    "_ = paddle_wv_contractive_sim(text1, text2)"
   ]
  },
  {
   "cell_type": "code",
   "execution_count": null,
   "metadata": {},
   "outputs": [],
   "source": []
  }
 ],
 "metadata": {
  "kernelspec": {
   "display_name": "Python 3",
   "language": "python",
   "name": "python3"
  },
  "language_info": {
   "codemirror_mode": {
    "name": "ipython",
    "version": 3
   },
   "file_extension": ".py",
   "mimetype": "text/x-python",
   "name": "python",
   "nbconvert_exporter": "python",
   "pygments_lexer": "ipython3",
   "version": "3.7.3"
  }
 },
 "nbformat": 4,
 "nbformat_minor": 2
}
