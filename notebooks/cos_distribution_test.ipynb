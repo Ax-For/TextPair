{
 "cells": [
  {
   "cell_type": "code",
   "execution_count": 1,
   "metadata": {},
   "outputs": [],
   "source": [
    "import sys\n",
    "sys.path.append('../')"
   ]
  },
  {
   "cell_type": "code",
   "execution_count": 2,
   "metadata": {},
   "outputs": [],
   "source": [
    "import os\n",
    "import pandas as pd\n",
    "\n",
    "from tqdm import tqdm\n",
    "from sklearn.metrics.pairwise import cosine_similarity, cosine_distances\n",
    "\n",
    "from textpair.single.paddle_bow import PaddleBowTextU, PaddleBowSim\n",
    "from textpair.single.ann import Ann"
   ]
  },
  {
   "cell_type": "code",
   "execution_count": 3,
   "metadata": {},
   "outputs": [],
   "source": [
    "ATEC_CCKS_PATH = '../../bert_fine_tune/fine_tune/data/train_dev_test/ATEC_CCKS/processed/'\n",
    "SEP = '\\t'\n",
    "TRAIN_CSV = os.path.join(ATEC_CCKS_PATH, 'train.csv')\n",
    "DEV_CSV = os.path.join(ATEC_CCKS_PATH, 'dev.csv')\n",
    "TEST_CSV = os.path.join(ATEC_CCKS_PATH, 'test.csv')\n",
    "\n",
    "\n",
    "VOCAB_FILE = '../data/paddle_models/sim_net/data/term2id.dict'\n",
    "MODEL_PATH = '../data/paddle_models/sim_net/model_files/simnet_bow_pairwise_pretrained_model/'"
   ]
  },
  {
   "cell_type": "code",
   "execution_count": 4,
   "metadata": {},
   "outputs": [],
   "source": [
    "train_df = pd.read_csv(TRAIN_CSV, sep = SEP, na_filter = False)\n",
    "dev_df = pd.read_csv(DEV_CSV, sep = SEP, na_filter = False)\n",
    "test_df = pd.read_csv(TEST_CSV, sep = SEP, na_filter = False)"
   ]
  },
  {
   "cell_type": "code",
   "execution_count": 5,
   "metadata": {},
   "outputs": [
    {
     "data": {
      "text/html": [
       "<div>\n",
       "<style scoped>\n",
       "    .dataframe tbody tr th:only-of-type {\n",
       "        vertical-align: middle;\n",
       "    }\n",
       "\n",
       "    .dataframe tbody tr th {\n",
       "        vertical-align: top;\n",
       "    }\n",
       "\n",
       "    .dataframe thead th {\n",
       "        text-align: right;\n",
       "    }\n",
       "</style>\n",
       "<table border=\"1\" class=\"dataframe\">\n",
       "  <thead>\n",
       "    <tr style=\"text-align: right;\">\n",
       "      <th></th>\n",
       "      <th>text_1</th>\n",
       "      <th>text_2</th>\n",
       "      <th>label</th>\n",
       "    </tr>\n",
       "  </thead>\n",
       "  <tbody>\n",
       "    <tr>\n",
       "      <th>0</th>\n",
       "      <td>蚂蚁借呗还可以分期还款吗</td>\n",
       "      <td>借呗可以分期还款吗每个月还一部分的那种</td>\n",
       "      <td>1</td>\n",
       "    </tr>\n",
       "    <tr>\n",
       "      <th>1</th>\n",
       "      <td>延期1天还款</td>\n",
       "      <td>27号是还款日28号还这样是逾期吗</td>\n",
       "      <td>0</td>\n",
       "    </tr>\n",
       "    <tr>\n",
       "      <th>2</th>\n",
       "      <td>我花呗提现额度怎么开不了</td>\n",
       "      <td>为什么花呗不你提出来</td>\n",
       "      <td>0</td>\n",
       "    </tr>\n",
       "    <tr>\n",
       "      <th>3</th>\n",
       "      <td>未满足银行要求</td>\n",
       "      <td>怎样满足微重银行审批</td>\n",
       "      <td>0</td>\n",
       "    </tr>\n",
       "    <tr>\n",
       "      <th>4</th>\n",
       "      <td>商铺可以开通花呗分期吗</td>\n",
       "      <td>我再办一张银行卡可以开通花呗吗</td>\n",
       "      <td>0</td>\n",
       "    </tr>\n",
       "  </tbody>\n",
       "</table>\n",
       "</div>"
      ],
      "text/plain": [
       "         text_1               text_2  label\n",
       "0  蚂蚁借呗还可以分期还款吗  借呗可以分期还款吗每个月还一部分的那种      1\n",
       "1        延期1天还款    27号是还款日28号还这样是逾期吗      0\n",
       "2  我花呗提现额度怎么开不了           为什么花呗不你提出来      0\n",
       "3       未满足银行要求           怎样满足微重银行审批      0\n",
       "4   商铺可以开通花呗分期吗      我再办一张银行卡可以开通花呗吗      0"
      ]
     },
     "execution_count": 5,
     "metadata": {},
     "output_type": "execute_result"
    }
   ],
   "source": [
    "all_df = pd.concat([train_df, dev_df, test_df], axis= 0, ignore_index=True)\n",
    "all_df.head()"
   ]
  },
  {
   "cell_type": "code",
   "execution_count": 6,
   "metadata": {},
   "outputs": [
    {
     "data": {
      "text/plain": [
       "(202477, 3)"
      ]
     },
     "execution_count": 6,
     "metadata": {},
     "output_type": "execute_result"
    }
   ],
   "source": [
    "all_df.shape"
   ]
  },
  {
   "cell_type": "code",
   "execution_count": 7,
   "metadata": {},
   "outputs": [],
   "source": [
    "sim = PaddleBowSim(MODEL_PATH, VOCAB_FILE)\n",
    "\n",
    "def compute_cos(text1, text2):\n",
    "    ann1 = Ann(text1)\n",
    "    ann2 = Ann(text2)\n",
    "    ph = '你好'\n",
    "    ann_ph = Ann(ph)\n",
    "    res1 = sim(ann1, ann_ph)\n",
    "    res2 = sim(ann2, ann_ph)\n",
    "    vec1 = res1['left_vec']\n",
    "    vec2 = res2['left_vec']\n",
    "    cos_sim = cosine_similarity(vec1, vec2)[0, 0]\n",
    "    cos_dis = cosine_distances(vec1, vec2)[0, 0]\n",
    "    return cos_sim, cos_dis"
   ]
  },
  {
   "cell_type": "code",
   "execution_count": 8,
   "metadata": {},
   "outputs": [
    {
     "name": "stderr",
     "output_type": "stream",
     "text": [
      "  0%|                                                                                           | 0/202477 [00:00<?, ?it/s]Building prefix dict from the default dictionary ...\n",
      "2019-07-10 10:53:43,427-DEBUG: Building prefix dict from the default dictionary ...\n",
      "Loading model from cache C:\\Users\\aaronnli\\AppData\\Local\\Temp\\jieba.cache\n",
      "2019-07-10 10:53:43,435-DEBUG: Loading model from cache C:\\Users\\aaronnli\\AppData\\Local\\Temp\\jieba.cache\n",
      "Loading model cost 0.695 seconds.\n",
      "2019-07-10 10:53:44,124-DEBUG: Loading model cost 0.695 seconds.\n",
      "Prefix dict has been built succesfully.\n",
      "2019-07-10 10:53:44,126-DEBUG: Prefix dict has been built succesfully.\n",
      "100%|█████████████████████████████████████████████████████████████████████████████| 202477/202477 [09:23<00:00, 359.03it/s]\n"
     ]
    }
   ],
   "source": [
    "cos_res = []\n",
    "for row in tqdm(all_df.itertuples(), total=all_df.shape[0]):\n",
    "    text1 = row.text_1\n",
    "    text2 = row.text_2\n",
    "    cos_sim, cos_dis = compute_cos(text1, text2)\n",
    "    cos_res.append([cos_sim, cos_dis])"
   ]
  },
  {
   "cell_type": "code",
   "execution_count": 9,
   "metadata": {},
   "outputs": [],
   "source": [
    "cos_res_df = pd.DataFrame(cos_res, columns=['cos_sim', 'cos_dis'])"
   ]
  },
  {
   "cell_type": "code",
   "execution_count": 10,
   "metadata": {},
   "outputs": [
    {
     "data": {
      "text/html": [
       "<div>\n",
       "<style scoped>\n",
       "    .dataframe tbody tr th:only-of-type {\n",
       "        vertical-align: middle;\n",
       "    }\n",
       "\n",
       "    .dataframe tbody tr th {\n",
       "        vertical-align: top;\n",
       "    }\n",
       "\n",
       "    .dataframe thead th {\n",
       "        text-align: right;\n",
       "    }\n",
       "</style>\n",
       "<table border=\"1\" class=\"dataframe\">\n",
       "  <thead>\n",
       "    <tr style=\"text-align: right;\">\n",
       "      <th></th>\n",
       "      <th>cos_sim</th>\n",
       "      <th>cos_dis</th>\n",
       "    </tr>\n",
       "  </thead>\n",
       "  <tbody>\n",
       "    <tr>\n",
       "      <th>count</th>\n",
       "      <td>202477.000000</td>\n",
       "      <td>202477.000000</td>\n",
       "    </tr>\n",
       "    <tr>\n",
       "      <th>mean</th>\n",
       "      <td>0.696581</td>\n",
       "      <td>0.303419</td>\n",
       "    </tr>\n",
       "    <tr>\n",
       "      <th>std</th>\n",
       "      <td>0.153228</td>\n",
       "      <td>0.153228</td>\n",
       "    </tr>\n",
       "    <tr>\n",
       "      <th>min</th>\n",
       "      <td>-0.355114</td>\n",
       "      <td>0.000000</td>\n",
       "    </tr>\n",
       "    <tr>\n",
       "      <th>25%</th>\n",
       "      <td>0.612292</td>\n",
       "      <td>0.192848</td>\n",
       "    </tr>\n",
       "    <tr>\n",
       "      <th>50%</th>\n",
       "      <td>0.723668</td>\n",
       "      <td>0.276332</td>\n",
       "    </tr>\n",
       "    <tr>\n",
       "      <th>75%</th>\n",
       "      <td>0.807152</td>\n",
       "      <td>0.387708</td>\n",
       "    </tr>\n",
       "    <tr>\n",
       "      <th>max</th>\n",
       "      <td>1.000000</td>\n",
       "      <td>1.355114</td>\n",
       "    </tr>\n",
       "  </tbody>\n",
       "</table>\n",
       "</div>"
      ],
      "text/plain": [
       "             cos_sim        cos_dis\n",
       "count  202477.000000  202477.000000\n",
       "mean        0.696581       0.303419\n",
       "std         0.153228       0.153228\n",
       "min        -0.355114       0.000000\n",
       "25%         0.612292       0.192848\n",
       "50%         0.723668       0.276332\n",
       "75%         0.807152       0.387708\n",
       "max         1.000000       1.355114"
      ]
     },
     "execution_count": 10,
     "metadata": {},
     "output_type": "execute_result"
    }
   ],
   "source": [
    "cos_res_df.describe()"
   ]
  },
  {
   "cell_type": "code",
   "execution_count": 12,
   "metadata": {},
   "outputs": [],
   "source": [
    "SAVE_PATH = 'test_data/atec_ccks_cos.csv'\n",
    "cos_res_df.to_csv(SAVE_PATH, sep=SEP, index=False)"
   ]
  },
  {
   "cell_type": "code",
   "execution_count": null,
   "metadata": {},
   "outputs": [],
   "source": []
  }
 ],
 "metadata": {
  "kernelspec": {
   "display_name": "Python 3",
   "language": "python",
   "name": "python3"
  },
  "language_info": {
   "codemirror_mode": {
    "name": "ipython",
    "version": 3
   },
   "file_extension": ".py",
   "mimetype": "text/x-python",
   "name": "python",
   "nbconvert_exporter": "python",
   "pygments_lexer": "ipython3",
   "version": "3.7.3"
  }
 },
 "nbformat": 4,
 "nbformat_minor": 2
}
