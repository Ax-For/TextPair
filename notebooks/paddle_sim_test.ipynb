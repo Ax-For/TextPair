{
 "cells": [
  {
   "cell_type": "code",
   "execution_count": 1,
   "metadata": {},
   "outputs": [],
   "source": [
    "import sys\n",
    "sys.path.append('../')"
   ]
  },
  {
   "cell_type": "code",
   "execution_count": 2,
   "metadata": {},
   "outputs": [],
   "source": [
    "from textpair.single.paddle_bow import PaddleBowSim\n",
    "from textpair.single.ann import Ann"
   ]
  },
  {
   "cell_type": "code",
   "execution_count": 3,
   "metadata": {},
   "outputs": [],
   "source": [
    "VOCAB_FILE = '../../paddle_models/PaddleNLP/similarity_net/data/term2id.dict'\n",
    "MODEL_PATH = '../../paddle_models/PaddleNLP/similarity_net/model_files/simnet_bow_pairwise_pretrained_model/'"
   ]
  },
  {
   "cell_type": "code",
   "execution_count": 4,
   "metadata": {},
   "outputs": [],
   "source": [
    "sim = PaddleBowSim(VOCAB_FILE, MODEL_PATH)"
   ]
  },
  {
   "cell_type": "code",
   "execution_count": 5,
   "metadata": {},
   "outputs": [],
   "source": [
    "text1 = \"人民团体是什么\"\n",
    "text2 = \"人民团体是指\"\n",
    "ann1 = Ann(text1)\n",
    "ann2 = Ann(text2)"
   ]
  },
  {
   "cell_type": "code",
   "execution_count": 6,
   "metadata": {},
   "outputs": [
    {
     "name": "stderr",
     "output_type": "stream",
     "text": [
      "Building prefix dict from the default dictionary ...\n",
      "2019-06-25 18:02:52,933-DEBUG: Building prefix dict from the default dictionary ...\n",
      "Loading model from cache /tmp/jieba.cache\n",
      "2019-06-25 18:02:52,935-DEBUG: Loading model from cache /tmp/jieba.cache\n",
      "Loading model cost 0.862 seconds.\n",
      "2019-06-25 18:02:53,796-DEBUG: Loading model cost 0.862 seconds.\n",
      "Prefix dict has been built succesfully.\n",
      "2019-06-25 18:02:53,798-DEBUG: Prefix dict has been built succesfully.\n"
     ]
    }
   ],
   "source": [
    "res = sim(ann1, ann2)"
   ]
  },
  {
   "cell_type": "code",
   "execution_count": 7,
   "metadata": {},
   "outputs": [
    {
     "data": {
      "text/plain": [
       "0.9515146315097809"
      ]
     },
     "execution_count": 7,
     "metadata": {},
     "output_type": "execute_result"
    }
   ],
   "source": [
    "res"
   ]
  },
  {
   "cell_type": "code",
   "execution_count": null,
   "metadata": {},
   "outputs": [],
   "source": []
  }
 ],
 "metadata": {
  "kernelspec": {
   "display_name": "care",
   "language": "python",
   "name": "care"
  },
  "language_info": {
   "codemirror_mode": {
    "name": "ipython",
    "version": 3
   },
   "file_extension": ".py",
   "mimetype": "text/x-python",
   "name": "python",
   "nbconvert_exporter": "python",
   "pygments_lexer": "ipython3",
   "version": "3.6.8"
  }
 },
 "nbformat": 4,
 "nbformat_minor": 2
}
