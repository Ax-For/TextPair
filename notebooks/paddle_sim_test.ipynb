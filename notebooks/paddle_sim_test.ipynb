{
 "cells": [
  {
   "cell_type": "code",
   "execution_count": 1,
   "metadata": {},
   "outputs": [],
   "source": [
    "import sys\n",
    "sys.path.append('../')"
   ]
  },
  {
   "cell_type": "code",
   "execution_count": 2,
   "metadata": {},
   "outputs": [],
   "source": [
    "from textpair.single.paddle_bow import PaddleBowSim\n",
    "from textpair.single.ann import Ann\n",
    "from tqdm import tqdm\n",
    "from sklearn.metrics.pairwise import cosine_similarity"
   ]
  },
  {
   "cell_type": "code",
   "execution_count": 3,
   "metadata": {},
   "outputs": [],
   "source": [
    "VOCAB_FILE = '/home/aaron/projects/paddle_models/PaddleNLP/similarity_net/data/term2id.dict'\n",
    "MODEL_PATH = '/home/aaron/projects/paddle_models/PaddleNLP/similarity_net/model_files/simnet_bow_pairwise_pretrained_model/'"
   ]
  },
  {
   "cell_type": "code",
   "execution_count": 4,
   "metadata": {},
   "outputs": [],
   "source": [
    "sim = PaddleBowSim(VOCAB_FILE, MODEL_PATH)"
   ]
  },
  {
   "cell_type": "code",
   "execution_count": 5,
   "metadata": {},
   "outputs": [],
   "source": [
    "text1 = \"人民团体是什么\"\n",
    "text2 = \"人民团体是指\"\n",
    "ann1 = Ann(text1)\n",
    "ann2 = Ann(text2)"
   ]
  },
  {
   "cell_type": "code",
   "execution_count": 6,
   "metadata": {},
   "outputs": [
    {
     "name": "stderr",
     "output_type": "stream",
     "text": [
      "Building prefix dict from the default dictionary ...\n",
      "2019-06-26 17:37:24,190-DEBUG: Building prefix dict from the default dictionary ...\n",
      "Loading model from cache /tmp/jieba.cache\n",
      "2019-06-26 17:37:24,193-DEBUG: Loading model from cache /tmp/jieba.cache\n",
      "Loading model cost 0.848 seconds.\n",
      "2019-06-26 17:37:25,040-DEBUG: Loading model cost 0.848 seconds.\n",
      "Prefix dict has been built succesfully.\n",
      "2019-06-26 17:37:25,041-DEBUG: Prefix dict has been built succesfully.\n"
     ]
    }
   ],
   "source": [
    "res1 = sim(ann1, ann2)\n",
    "score1 = res1[\"score\"]\n",
    "vec1 = res1[\"left_vec\"]"
   ]
  },
  {
   "cell_type": "code",
   "execution_count": 7,
   "metadata": {},
   "outputs": [
    {
     "data": {
      "text/plain": [
       "0.9515146315097809"
      ]
     },
     "execution_count": 7,
     "metadata": {},
     "output_type": "execute_result"
    }
   ],
   "source": [
    "score1"
   ]
  },
  {
   "cell_type": "code",
   "execution_count": 8,
   "metadata": {},
   "outputs": [
    {
     "name": "stderr",
     "output_type": "stream",
     "text": [
      "100%|██████████| 3000/3000 [00:04<00:00, 602.99it/s]\n"
     ]
    }
   ],
   "source": [
    "for i in tqdm(range(3000)):\n",
    "    ann1 = Ann(text1)\n",
    "    ann2 = Ann(text2)\n",
    "    res = sim(ann1, ann2)"
   ]
  },
  {
   "cell_type": "code",
   "execution_count": 9,
   "metadata": {},
   "outputs": [
    {
     "data": {
      "text/plain": [
       "array([[-1.70560837e-01, -3.74650657e-02,  5.14803767e-01,\n",
       "        -8.30973387e-02, -6.99905083e-02,  2.11101487e-01,\n",
       "         2.78322905e-01,  1.80265188e-01,  3.15677524e-01,\n",
       "        -2.06045508e-02,  6.17800474e-01,  3.22973356e-04,\n",
       "         4.44537103e-02,  3.98693144e-01,  1.59228556e-02,\n",
       "         4.28976625e-01,  3.96663427e-01, -7.29420111e-02,\n",
       "        -9.72113460e-02, -1.44232795e-01,  5.54061159e-02,\n",
       "         4.19091910e-01, -2.40897864e-01,  2.23761261e-01,\n",
       "         2.55655229e-01,  4.06692475e-02,  5.28913081e-01,\n",
       "         8.28170657e-01,  2.57944703e-01,  5.23537576e-01,\n",
       "         3.37901026e-01,  2.48735040e-01, -5.66174865e-01,\n",
       "         7.18245506e-02, -6.48569405e-01,  7.92640269e-01,\n",
       "         5.29523551e-01, -4.94030625e-01,  3.55076492e-02,\n",
       "        -2.81550527e-01, -2.68068910e-01,  9.48423445e-02,\n",
       "         4.47783560e-01, -4.00970876e-02,  4.84471083e-01,\n",
       "        -2.65492916e-01,  3.08129162e-01,  2.60512233e-02,\n",
       "         1.25101686e-01, -1.20797649e-01, -5.25810309e-02,\n",
       "         1.49816811e-01, -6.05229378e-01, -1.65897474e-01,\n",
       "         2.76374221e-01, -1.84486359e-01, -1.79672778e-01,\n",
       "         1.24327868e-01, -2.64139116e-01, -6.24919415e-01,\n",
       "        -2.63970375e-01, -1.76089644e-01, -2.03471005e-01,\n",
       "         1.25630736e-01, -2.70844370e-01,  2.10876644e-01,\n",
       "        -4.62323219e-01,  2.77545750e-01, -1.79003775e-02,\n",
       "         1.52463764e-01, -3.74012649e-01, -4.18865234e-01,\n",
       "         2.97811389e-01,  2.17901751e-01,  2.99521208e-01,\n",
       "         2.94991434e-02,  3.03280890e-01, -4.04777914e-01,\n",
       "         1.64289802e-01,  4.07640636e-01, -1.63274288e-01,\n",
       "         3.47542167e-01,  2.68782437e-01, -1.51421160e-01,\n",
       "        -7.76875257e-01,  3.85620147e-01,  8.82987306e-02,\n",
       "        -2.04730242e-01,  1.46551415e-01,  1.41283870e-03,\n",
       "         3.70267630e-02, -3.35813075e-01, -8.22912335e-01,\n",
       "        -6.09529734e-01,  2.17927992e-01, -3.32215101e-01,\n",
       "         5.75225949e-01, -5.80724478e-02,  6.91617012e-01,\n",
       "         1.08050644e-01, -2.88311511e-01, -1.68462574e-01,\n",
       "         1.04990631e-01, -2.96449870e-01,  6.54375076e-01,\n",
       "         1.99640080e-01, -1.20512396e-01, -2.97524571e-01,\n",
       "        -3.54958475e-01, -5.50344884e-01,  1.89795420e-01,\n",
       "         2.20885813e-01, -4.14979160e-02,  1.27293602e-01,\n",
       "         4.47177172e-01, -1.32074535e-01, -1.99101895e-01,\n",
       "         3.06965709e-01,  5.36131263e-02,  6.22613549e-01,\n",
       "        -4.32417363e-01,  1.57599181e-01, -3.46878529e-01,\n",
       "        -1.71946496e-01, -2.62033343e-02, -3.61038238e-01,\n",
       "         2.37479508e-01, -4.48631048e-02]], dtype=float32)"
      ]
     },
     "execution_count": 9,
     "metadata": {},
     "output_type": "execute_result"
    }
   ],
   "source": [
    "vec1"
   ]
  },
  {
   "cell_type": "code",
   "execution_count": 10,
   "metadata": {},
   "outputs": [],
   "source": [
    "ann1 = Ann(text2)\n",
    "ann2 = Ann(text1)\n",
    "res2 = sim(ann1, ann2)\n",
    "score2 = res2[\"score\"]\n",
    "vec2 = res2[\"left_vec\"]"
   ]
  },
  {
   "cell_type": "code",
   "execution_count": 11,
   "metadata": {},
   "outputs": [
    {
     "data": {
      "text/plain": [
       "0.9515146315097809"
      ]
     },
     "execution_count": 11,
     "metadata": {},
     "output_type": "execute_result"
    }
   ],
   "source": [
    "score2"
   ]
  },
  {
   "cell_type": "code",
   "execution_count": 12,
   "metadata": {},
   "outputs": [
    {
     "data": {
      "text/plain": [
       "array([[-0.07193196, -0.02850997,  0.41007337, -0.23986799, -0.1817587 ,\n",
       "         0.38449994,  0.5324818 ,  0.16439936,  0.08232102, -0.10547133,\n",
       "         0.80433553, -0.07167185,  0.12474293,  0.1335844 ,  0.15730451,\n",
       "         0.48062217,  0.31346598, -0.12053117,  0.06695841, -0.17203717,\n",
       "         0.31366545,  0.45438132, -0.05947053,  0.3432764 ,  0.32160527,\n",
       "        -0.03298597,  0.23279572,  0.961488  ,  0.18464224,  0.4629622 ,\n",
       "         0.4032657 ,  0.14319557, -0.77499163,  0.42104667, -0.50555253,\n",
       "         0.671253  ,  0.43920183, -0.2757621 ,  0.15027243, -0.18368083,\n",
       "        -0.19620834, -0.03260723,  0.45094404,  0.08652598,  0.62859684,\n",
       "        -0.31752995,  0.21158959, -0.09861019,  0.28990868, -0.10580368,\n",
       "        -0.18310775, -0.14328662, -0.60351646, -0.13392398,  0.09366333,\n",
       "        -0.4327727 ,  0.11153603,  0.31390622,  0.01611447, -0.60121864,\n",
       "        -0.24603459, -0.2323186 , -0.5872388 ,  0.18065348, -0.30484897,\n",
       "         0.00930198, -0.28493944,  0.3666643 , -0.1651977 ,  0.20607677,\n",
       "        -0.17862935, -0.2680918 ,  0.22753525, -0.21155784,  0.19015045,\n",
       "         0.23847044,  0.29544598, -0.33886772,  0.32461527,  0.35867363,\n",
       "        -0.29687685,  0.358697  , -0.03010499, -0.29300603, -0.8442682 ,\n",
       "         0.40705356,  0.08093101, -0.31358305,  0.02854934,  0.02099913,\n",
       "         0.1473356 , -0.14638978, -0.84988695, -0.5382309 ,  0.25696492,\n",
       "        -0.12247989,  0.7245344 , -0.17278618,  0.805628  , -0.16109952,\n",
       "        -0.08758256, -0.23717183,  0.13670328, -0.3680016 ,  0.5918454 ,\n",
       "         0.32748404, -0.43916002, -0.30032718, -0.34055296, -0.72707725,\n",
       "         0.31993347,  0.41508856, -0.05308878,  0.07078102,  0.2767613 ,\n",
       "        -0.11191559, -0.27789208,  0.27714097,  0.0746361 ,  0.25146133,\n",
       "        -0.55448264,  0.16745842, -0.66658646, -0.05863667, -0.09111433,\n",
       "        -0.42266193,  0.18120961, -0.09612405]], dtype=float32)"
      ]
     },
     "execution_count": 12,
     "metadata": {},
     "output_type": "execute_result"
    }
   ],
   "source": [
    "vec2"
   ]
  },
  {
   "cell_type": "code",
   "execution_count": 13,
   "metadata": {},
   "outputs": [],
   "source": [
    "score_vec1_vec2 = (cosine_similarity(vec1, vec2)[0, 0] + 1) / 2"
   ]
  },
  {
   "cell_type": "code",
   "execution_count": 14,
   "metadata": {},
   "outputs": [
    {
     "data": {
      "text/plain": [
       "(0.9515146315097809, 0.9515146315097809, 0.9515146613121033)"
      ]
     },
     "execution_count": 14,
     "metadata": {},
     "output_type": "execute_result"
    }
   ],
   "source": [
    "score1, score2, score_vec1_vec2"
   ]
  },
  {
   "cell_type": "code",
   "execution_count": 15,
   "metadata": {},
   "outputs": [
    {
     "data": {
      "text/plain": [
       "'人民团体是指'"
      ]
     },
     "execution_count": 15,
     "metadata": {},
     "output_type": "execute_result"
    }
   ],
   "source": [
    "ann1.text"
   ]
  },
  {
   "cell_type": "code",
   "execution_count": 16,
   "metadata": {},
   "outputs": [
    {
     "data": {
      "text/plain": [
       "'人民团体是指'"
      ]
     },
     "execution_count": 16,
     "metadata": {},
     "output_type": "execute_result"
    }
   ],
   "source": [
    "ann1.ptext"
   ]
  },
  {
   "cell_type": "code",
   "execution_count": 17,
   "metadata": {},
   "outputs": [
    {
     "data": {
      "text/plain": [
       "['人民团体', '是', '指']"
      ]
     },
     "execution_count": 17,
     "metadata": {},
     "output_type": "execute_result"
    }
   ],
   "source": [
    "ann1.ares"
   ]
  },
  {
   "cell_type": "code",
   "execution_count": null,
   "metadata": {},
   "outputs": [],
   "source": []
  }
 ],
 "metadata": {
  "kernelspec": {
   "display_name": "care",
   "language": "python",
   "name": "care"
  },
  "language_info": {
   "codemirror_mode": {
    "name": "ipython",
    "version": 3
   },
   "file_extension": ".py",
   "mimetype": "text/x-python",
   "name": "python",
   "nbconvert_exporter": "python",
   "pygments_lexer": "ipython3",
   "version": "3.6.8"
  }
 },
 "nbformat": 4,
 "nbformat_minor": 2
}
