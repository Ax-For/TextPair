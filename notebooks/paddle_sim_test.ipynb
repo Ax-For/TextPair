{
 "cells": [
  {
   "cell_type": "code",
   "execution_count": 1,
   "metadata": {},
   "outputs": [],
   "source": [
    "import sys\n",
    "sys.path.append('../')"
   ]
  },
  {
   "cell_type": "code",
   "execution_count": 2,
   "metadata": {},
   "outputs": [],
   "source": [
    "from textpair.single.paddle_bow import PaddleBowSim\n",
    "from textpair.single.ann import Ann\n",
    "from tqdm import tqdm\n",
    "from sklearn.metrics.pairwise import cosine_similarity"
   ]
  },
  {
   "cell_type": "code",
   "execution_count": 3,
   "metadata": {},
   "outputs": [],
   "source": [
    "VOCAB_FILE = '../../../model_files/paddle_models/sim_net/data/term2id.dict'\n",
    "MODEL_PATH = '../../../model_files/paddle_models/sim_net/model_files/simnet_bow_pairwise_pretrained_model/'"
   ]
  },
  {
   "cell_type": "code",
   "execution_count": 4,
   "metadata": {},
   "outputs": [],
   "source": [
    "sim = PaddleBowSim(VOCAB_FILE, MODEL_PATH)"
   ]
  },
  {
   "cell_type": "code",
   "execution_count": 5,
   "metadata": {},
   "outputs": [],
   "source": [
    "text1 = \"人民团体是什么\"\n",
    "text2 = \"人民团体是指\"\n",
    "ann1 = Ann(text1)\n",
    "ann2 = Ann(text2)"
   ]
  },
  {
   "cell_type": "code",
   "execution_count": 6,
   "metadata": {},
   "outputs": [
    {
     "name": "stderr",
     "output_type": "stream",
     "text": [
      "Building prefix dict from the default dictionary ...\n",
      "2019-06-25 23:13:25,728-DEBUG: Building prefix dict from the default dictionary ...\n",
      "Loading model from cache C:\\Users\\LINAN\\AppData\\Local\\Temp\\jieba.cache\n",
      "2019-06-25 23:13:25,735-DEBUG: Loading model from cache C:\\Users\\LINAN\\AppData\\Local\\Temp\\jieba.cache\n",
      "Loading model cost 0.637 seconds.\n",
      "2019-06-25 23:13:26,370-DEBUG: Loading model cost 0.637 seconds.\n",
      "Prefix dict has been built succesfully.\n",
      "2019-06-25 23:13:26,371-DEBUG: Prefix dict has been built succesfully.\n"
     ]
    }
   ],
   "source": [
    "res1 = sim(ann1, ann2)\n",
    "score1 = res1[\"score\"]\n",
    "vec1 = res1[\"left_vec\"]"
   ]
  },
  {
   "cell_type": "code",
   "execution_count": 7,
   "metadata": {},
   "outputs": [
    {
     "data": {
      "text/plain": [
       "0.9515146613121033"
      ]
     },
     "execution_count": 7,
     "metadata": {},
     "output_type": "execute_result"
    }
   ],
   "source": [
    "score1"
   ]
  },
  {
   "cell_type": "code",
   "execution_count": 8,
   "metadata": {},
   "outputs": [
    {
     "name": "stderr",
     "output_type": "stream",
     "text": [
      "100%|███████████████████████████████████████████████████████████████████████████████████████████████████████████████████████████████████████████████████████████████████████| 3000/3000 [00:02<00:00, 1023.21it/s]\n"
     ]
    }
   ],
   "source": [
    "for i in tqdm(range(3000)):\n",
    "    ann1 = Ann(text1)\n",
    "    ann2 = Ann(text2)\n",
    "    res = sim(ann1, ann2)"
   ]
  },
  {
   "cell_type": "code",
   "execution_count": 9,
   "metadata": {},
   "outputs": [
    {
     "data": {
      "text/plain": [
       "array([[-1.70560688e-01, -3.74650955e-02,  5.14803708e-01,\n",
       "        -8.30972493e-02, -6.99904338e-02,  2.11101443e-01,\n",
       "         2.78322875e-01,  1.80265248e-01,  3.15677464e-01,\n",
       "        -2.06045359e-02,  6.17800415e-01,  3.23109329e-04,\n",
       "         4.44537997e-02,  3.98692936e-01,  1.59228854e-02,\n",
       "         4.28976566e-01,  3.96663457e-01, -7.29419813e-02,\n",
       "        -9.72113088e-02, -1.44232765e-01,  5.54060973e-02,\n",
       "         4.19091970e-01, -2.40897954e-01,  2.23761201e-01,\n",
       "         2.55655289e-01,  4.06692773e-02,  5.28913081e-01,\n",
       "         8.28170717e-01,  2.57944673e-01,  5.23537695e-01,\n",
       "         3.37901056e-01,  2.48735070e-01, -5.66174805e-01,\n",
       "         7.18245506e-02, -6.48569465e-01,  7.92640209e-01,\n",
       "         5.29523909e-01, -4.94030625e-01,  3.55076194e-02,\n",
       "        -2.81550497e-01, -2.68068969e-01,  9.48422253e-02,\n",
       "         4.47783470e-01, -4.00969684e-02,  4.84471142e-01,\n",
       "        -2.65492886e-01,  3.08129102e-01,  2.60512531e-02,\n",
       "         1.25101715e-01, -1.20797649e-01, -5.25811352e-02,\n",
       "         1.49816811e-01, -6.05229318e-01, -1.65897533e-01,\n",
       "         2.76374310e-01, -1.84486300e-01, -1.79672793e-01,\n",
       "         1.24327928e-01, -2.64139205e-01, -6.24919355e-01,\n",
       "        -2.63970435e-01, -1.76089704e-01, -2.03471065e-01,\n",
       "         1.25630736e-01, -2.70844430e-01,  2.10876614e-01,\n",
       "        -4.62323278e-01,  2.77545810e-01, -1.79002881e-02,\n",
       "         1.52463749e-01, -3.74012560e-01, -4.18865263e-01,\n",
       "         2.97811389e-01,  2.17901736e-01,  2.99521357e-01,\n",
       "         2.94991434e-02,  3.03280652e-01, -4.04777855e-01,\n",
       "         1.64289832e-01,  4.07640725e-01, -1.63274288e-01,\n",
       "         3.47542167e-01,  2.68782377e-01, -1.51421100e-01,\n",
       "        -7.76875317e-01,  3.85620117e-01,  8.82987306e-02,\n",
       "        -2.04730362e-01,  1.46551520e-01,  1.41286850e-03,\n",
       "         3.70268375e-02, -3.35813105e-01, -8.22912395e-01,\n",
       "        -6.09529853e-01,  2.17927948e-01, -3.32215130e-01,\n",
       "         5.75226009e-01, -5.80723882e-02,  6.91617131e-01,\n",
       "         1.08050577e-01, -2.88311422e-01, -1.68462336e-01,\n",
       "         1.04990482e-01, -2.96449870e-01,  6.54375076e-01,\n",
       "         1.99640125e-01, -1.20512396e-01, -2.97524512e-01,\n",
       "        -3.54958475e-01, -5.50344706e-01,  1.89795479e-01,\n",
       "         2.20885694e-01, -4.14979458e-02,  1.27293631e-01,\n",
       "         4.47177231e-01, -1.32074565e-01, -1.99101895e-01,\n",
       "         3.06965649e-01,  5.36130071e-02,  6.22613609e-01,\n",
       "        -4.32417303e-01,  1.57599151e-01, -3.46878648e-01,\n",
       "        -1.71946496e-01, -2.62033492e-02, -3.61038238e-01,\n",
       "         2.37479478e-01, -4.48631644e-02]], dtype=float32)"
      ]
     },
     "execution_count": 9,
     "metadata": {},
     "output_type": "execute_result"
    }
   ],
   "source": [
    "vec1"
   ]
  },
  {
   "cell_type": "code",
   "execution_count": 10,
   "metadata": {},
   "outputs": [],
   "source": [
    "ann1 = Ann(text2)\n",
    "ann2 = Ann(text1)\n",
    "res2 = sim(ann1, ann2)\n",
    "score2 = res2[\"score\"]\n",
    "vec2 = res2[\"left_vec\"]"
   ]
  },
  {
   "cell_type": "code",
   "execution_count": 11,
   "metadata": {},
   "outputs": [
    {
     "data": {
      "text/plain": [
       "0.9515146613121033"
      ]
     },
     "execution_count": 11,
     "metadata": {},
     "output_type": "execute_result"
    }
   ],
   "source": [
    "score2"
   ]
  },
  {
   "cell_type": "code",
   "execution_count": 12,
   "metadata": {},
   "outputs": [
    {
     "data": {
      "text/plain": [
       "array([[-0.07193187, -0.02850994,  0.41007343, -0.23986797, -0.18175876,\n",
       "         0.3844999 ,  0.53248185,  0.16439942,  0.08232097, -0.10547136,\n",
       "         0.80433553, -0.07167187,  0.12474287,  0.13358435,  0.15730448,\n",
       "         0.48062217,  0.31346595, -0.12053117,  0.06695841, -0.1720372 ,\n",
       "         0.31366536,  0.45438138, -0.05947053,  0.34327656,  0.32160544,\n",
       "        -0.032986  ,  0.23279564,  0.9614878 ,  0.1846422 ,  0.46296197,\n",
       "         0.40326563,  0.14319545, -0.77499175,  0.4210466 , -0.50555253,\n",
       "         0.6712532 ,  0.43920186, -0.2757621 ,  0.15027244, -0.18368083,\n",
       "        -0.19620834, -0.03260714,  0.45094398,  0.08652598,  0.6285967 ,\n",
       "        -0.31752992,  0.2115895 , -0.09861028,  0.28990874, -0.10580373,\n",
       "        -0.1831078 , -0.14328665, -0.6035165 , -0.13392395,  0.09366333,\n",
       "        -0.43277267,  0.111536  ,  0.31390622,  0.01611441, -0.6012186 ,\n",
       "        -0.24603441, -0.23231858, -0.5872389 ,  0.18065363, -0.30484894,\n",
       "         0.00930201, -0.28493938,  0.3666643 , -0.16519773,  0.20607673,\n",
       "        -0.1786293 , -0.26809174,  0.22753528, -0.21155795,  0.19015051,\n",
       "         0.23847035,  0.29544598, -0.3388677 ,  0.32461515,  0.3586736 ,\n",
       "        -0.29687682,  0.35869703, -0.03010511, -0.29300597, -0.8442682 ,\n",
       "         0.40705326,  0.08093105, -0.31358323,  0.02854932,  0.02099913,\n",
       "         0.14733559, -0.14638984, -0.84988695, -0.53823084,  0.2569649 ,\n",
       "        -0.12247998,  0.7245344 , -0.17278618,  0.80562794, -0.16109966,\n",
       "        -0.08758256, -0.23717165,  0.13670325, -0.36800164,  0.5918454 ,\n",
       "         0.32748383, -0.43916014, -0.30032706, -0.3405528 , -0.7270771 ,\n",
       "         0.31993353,  0.41508868, -0.05308878,  0.07078107,  0.2767615 ,\n",
       "        -0.11191565, -0.27789214,  0.27714097,  0.0746361 ,  0.25146127,\n",
       "        -0.5544827 ,  0.16745842, -0.6665865 , -0.05863672, -0.09111434,\n",
       "        -0.422662  ,  0.1812096 , -0.09612405]], dtype=float32)"
      ]
     },
     "execution_count": 12,
     "metadata": {},
     "output_type": "execute_result"
    }
   ],
   "source": [
    "vec2"
   ]
  },
  {
   "cell_type": "code",
   "execution_count": 13,
   "metadata": {},
   "outputs": [],
   "source": [
    "score_vec1_vec2 = (cosine_similarity(vec1, vec2)[0, 0] + 1) / 2"
   ]
  },
  {
   "cell_type": "code",
   "execution_count": 14,
   "metadata": {},
   "outputs": [
    {
     "data": {
      "text/plain": [
       "(0.9515146613121033, 0.9515146613121033, 0.9515146613121033)"
      ]
     },
     "execution_count": 14,
     "metadata": {},
     "output_type": "execute_result"
    }
   ],
   "source": [
    "score1, score2, score_vec1_vec2"
   ]
  },
  {
   "cell_type": "code",
   "execution_count": null,
   "metadata": {},
   "outputs": [],
   "source": []
  }
 ],
 "metadata": {
  "kernelspec": {
   "display_name": "Python 3",
   "language": "python",
   "name": "python3"
  },
  "language_info": {
   "codemirror_mode": {
    "name": "ipython",
    "version": 3
   },
   "file_extension": ".py",
   "mimetype": "text/x-python",
   "name": "python",
   "nbconvert_exporter": "python",
   "pygments_lexer": "ipython3",
   "version": "3.6.8"
  }
 },
 "nbformat": 4,
 "nbformat_minor": 2
}
